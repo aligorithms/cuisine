{
 "cells": [
  {
   "cell_type": "markdown",
   "metadata": {},
   "source": [
    "## Method A - Try Classification Decision Tree with no max depth"
   ]
  },
  {
   "cell_type": "code",
   "execution_count": 1,
   "metadata": {},
   "outputs": [],
   "source": [
    "import pandas as pd\n",
    "from matplotlib import pyplot as plt\n",
    "import seaborn as sns\n",
    "import json\n",
    "import numpy as np\n",
    "import scipy as sp\n",
    "from pprint import pprint\n",
    "from sklearn.model_selection import train_test_split\n",
    "from sklearn.feature_extraction.text import CountVectorizer, TfidfVectorizer\n",
    "from sklearn.naive_bayes import MultinomialNB\n",
    "from sklearn.linear_model import LogisticRegression\n",
    "from sklearn import metrics\n",
    "from sklearn import dummy\n",
    "from textblob import TextBlob, Word\n",
    "from nltk.stem.snowball import SnowballStemmer\n",
    "from sklearn import tree\n",
    "from sklearn.tree import export_graphviz\n",
    "from graphviz import Source\n",
    "from IPython.display import SVG\n",
    "from IPython.display import Image  \n",
    "import pydotplus\n",
    "from sklearn.ensemble import RandomForestClassifier\n",
    "from sklearn.model_selection import cross_val_score\n",
    "from sklearn.tree import DecisionTreeClassifier\n",
    "from sklearn.metrics import classification_report, confusion_matrix"
   ]
  },
  {
   "cell_type": "code",
   "execution_count": 2,
   "metadata": {},
   "outputs": [
    {
     "data": {
      "text/html": [
       "<div>\n",
       "<style scoped>\n",
       "    .dataframe tbody tr th:only-of-type {\n",
       "        vertical-align: middle;\n",
       "    }\n",
       "\n",
       "    .dataframe tbody tr th {\n",
       "        vertical-align: top;\n",
       "    }\n",
       "\n",
       "    .dataframe thead th {\n",
       "        text-align: right;\n",
       "    }\n",
       "</style>\n",
       "<table border=\"1\" class=\"dataframe\">\n",
       "  <thead>\n",
       "    <tr style=\"text-align: right;\">\n",
       "      <th></th>\n",
       "      <th>cuisine</th>\n",
       "      <th>id</th>\n",
       "      <th>ingredients</th>\n",
       "    </tr>\n",
       "  </thead>\n",
       "  <tbody>\n",
       "    <tr>\n",
       "      <th>0</th>\n",
       "      <td>greek</td>\n",
       "      <td>10259</td>\n",
       "      <td>[romaine lettuce, black olives, grape tomatoes...</td>\n",
       "    </tr>\n",
       "    <tr>\n",
       "      <th>1</th>\n",
       "      <td>southern_us</td>\n",
       "      <td>25693</td>\n",
       "      <td>[plain flour, ground pepper, salt, tomatoes, g...</td>\n",
       "    </tr>\n",
       "    <tr>\n",
       "      <th>2</th>\n",
       "      <td>filipino</td>\n",
       "      <td>20130</td>\n",
       "      <td>[eggs, pepper, salt, mayonaise, cooking oil, g...</td>\n",
       "    </tr>\n",
       "    <tr>\n",
       "      <th>3</th>\n",
       "      <td>indian</td>\n",
       "      <td>22213</td>\n",
       "      <td>[water, vegetable oil, wheat, salt]</td>\n",
       "    </tr>\n",
       "    <tr>\n",
       "      <th>4</th>\n",
       "      <td>indian</td>\n",
       "      <td>13162</td>\n",
       "      <td>[black pepper, shallots, cornflour, cayenne pe...</td>\n",
       "    </tr>\n",
       "  </tbody>\n",
       "</table>\n",
       "</div>"
      ],
      "text/plain": [
       "       cuisine     id                                        ingredients\n",
       "0        greek  10259  [romaine lettuce, black olives, grape tomatoes...\n",
       "1  southern_us  25693  [plain flour, ground pepper, salt, tomatoes, g...\n",
       "2     filipino  20130  [eggs, pepper, salt, mayonaise, cooking oil, g...\n",
       "3       indian  22213                [water, vegetable oil, wheat, salt]\n",
       "4       indian  13162  [black pepper, shallots, cornflour, cayenne pe..."
      ]
     },
     "execution_count": 2,
     "metadata": {},
     "output_type": "execute_result"
    }
   ],
   "source": [
    "#1 - Load in Kaggle training dataset\n",
    "with open('train.json') as f:\n",
    "    dict_train = json.load(f)\n",
    "\n",
    "recipe = pd.DataFrame(dict_train)\n",
    "recipe.head()"
   ]
  },
  {
   "cell_type": "code",
   "execution_count": 3,
   "metadata": {},
   "outputs": [
    {
     "data": {
      "text/plain": [
       "chinese       2673\n",
       "thai          1539\n",
       "japanese      1423\n",
       "korean         830\n",
       "vietnamese     825\n",
       "Name: cuisine, dtype: int64"
      ]
     },
     "execution_count": 3,
     "metadata": {},
     "output_type": "execute_result"
    }
   ],
   "source": [
    "#Filter dataset down to only the top 5 East Asian & Southeast Asian cuisines\n",
    "asian_cuisines = ['chinese', 'thai', 'japanese', 'korean', 'vietnamese']\n",
    "recipe = recipe[recipe.cuisine.isin(asian_cuisines)]\n",
    "recipe.reset_index(drop = True, inplace = True)\n",
    "recipe.cuisine.value_counts()"
   ]
  },
  {
   "cell_type": "code",
   "execution_count": 4,
   "metadata": {},
   "outputs": [],
   "source": [
    "#Split dataset into X and y, with X containing dummy variables for each ingredient and y containing cuisine categories\n",
    "\n",
    "X = pd.get_dummies(recipe['ingredients'].apply(pd.Series).stack()).sum(level=0)\n",
    "y = recipe['cuisine']"
   ]
  },
  {
   "cell_type": "code",
   "execution_count": 5,
   "metadata": {},
   "outputs": [
    {
     "data": {
      "text/html": [
       "<div>\n",
       "<style scoped>\n",
       "    .dataframe tbody tr th:only-of-type {\n",
       "        vertical-align: middle;\n",
       "    }\n",
       "\n",
       "    .dataframe tbody tr th {\n",
       "        vertical-align: top;\n",
       "    }\n",
       "\n",
       "    .dataframe thead th {\n",
       "        text-align: right;\n",
       "    }\n",
       "</style>\n",
       "<table border=\"1\" class=\"dataframe\">\n",
       "  <thead>\n",
       "    <tr style=\"text-align: right;\">\n",
       "      <th></th>\n",
       "      <th>(    oz.) tomato sauce</th>\n",
       "      <th>1% low-fat milk</th>\n",
       "      <th>2% reduced-fat milk</th>\n",
       "      <th>33% less sodium smoked fully cooked ham</th>\n",
       "      <th>A Taste of Thai Rice Noodles</th>\n",
       "      <th>Alaskan king crab legs</th>\n",
       "      <th>Anaheim chile</th>\n",
       "      <th>Angostura bitters</th>\n",
       "      <th>Argo Corn Starch</th>\n",
       "      <th>Asian chili sauce</th>\n",
       "      <th>...</th>\n",
       "      <th>yellowtail</th>\n",
       "      <th>yoghurt</th>\n",
       "      <th>yolk</th>\n",
       "      <th>young coconut meat</th>\n",
       "      <th>yu choy</th>\n",
       "      <th>yukon gold potatoes</th>\n",
       "      <th>yuzu</th>\n",
       "      <th>yuzu juice</th>\n",
       "      <th>zest</th>\n",
       "      <th>zucchini</th>\n",
       "    </tr>\n",
       "  </thead>\n",
       "  <tbody>\n",
       "    <tr>\n",
       "      <th>0</th>\n",
       "      <td>0</td>\n",
       "      <td>0</td>\n",
       "      <td>0</td>\n",
       "      <td>0</td>\n",
       "      <td>0</td>\n",
       "      <td>0</td>\n",
       "      <td>0</td>\n",
       "      <td>0</td>\n",
       "      <td>0</td>\n",
       "      <td>0</td>\n",
       "      <td>...</td>\n",
       "      <td>0</td>\n",
       "      <td>0</td>\n",
       "      <td>0</td>\n",
       "      <td>0</td>\n",
       "      <td>0</td>\n",
       "      <td>0</td>\n",
       "      <td>0</td>\n",
       "      <td>0</td>\n",
       "      <td>0</td>\n",
       "      <td>0</td>\n",
       "    </tr>\n",
       "    <tr>\n",
       "      <th>1</th>\n",
       "      <td>0</td>\n",
       "      <td>0</td>\n",
       "      <td>0</td>\n",
       "      <td>0</td>\n",
       "      <td>0</td>\n",
       "      <td>0</td>\n",
       "      <td>0</td>\n",
       "      <td>0</td>\n",
       "      <td>0</td>\n",
       "      <td>0</td>\n",
       "      <td>...</td>\n",
       "      <td>0</td>\n",
       "      <td>0</td>\n",
       "      <td>0</td>\n",
       "      <td>0</td>\n",
       "      <td>0</td>\n",
       "      <td>0</td>\n",
       "      <td>0</td>\n",
       "      <td>0</td>\n",
       "      <td>0</td>\n",
       "      <td>0</td>\n",
       "    </tr>\n",
       "    <tr>\n",
       "      <th>2</th>\n",
       "      <td>0</td>\n",
       "      <td>0</td>\n",
       "      <td>0</td>\n",
       "      <td>0</td>\n",
       "      <td>0</td>\n",
       "      <td>0</td>\n",
       "      <td>0</td>\n",
       "      <td>0</td>\n",
       "      <td>0</td>\n",
       "      <td>0</td>\n",
       "      <td>...</td>\n",
       "      <td>0</td>\n",
       "      <td>0</td>\n",
       "      <td>0</td>\n",
       "      <td>0</td>\n",
       "      <td>0</td>\n",
       "      <td>0</td>\n",
       "      <td>0</td>\n",
       "      <td>0</td>\n",
       "      <td>0</td>\n",
       "      <td>0</td>\n",
       "    </tr>\n",
       "    <tr>\n",
       "      <th>3</th>\n",
       "      <td>0</td>\n",
       "      <td>0</td>\n",
       "      <td>0</td>\n",
       "      <td>0</td>\n",
       "      <td>0</td>\n",
       "      <td>0</td>\n",
       "      <td>0</td>\n",
       "      <td>0</td>\n",
       "      <td>0</td>\n",
       "      <td>0</td>\n",
       "      <td>...</td>\n",
       "      <td>0</td>\n",
       "      <td>0</td>\n",
       "      <td>0</td>\n",
       "      <td>0</td>\n",
       "      <td>0</td>\n",
       "      <td>0</td>\n",
       "      <td>0</td>\n",
       "      <td>0</td>\n",
       "      <td>0</td>\n",
       "      <td>0</td>\n",
       "    </tr>\n",
       "    <tr>\n",
       "      <th>4</th>\n",
       "      <td>0</td>\n",
       "      <td>0</td>\n",
       "      <td>0</td>\n",
       "      <td>0</td>\n",
       "      <td>0</td>\n",
       "      <td>0</td>\n",
       "      <td>0</td>\n",
       "      <td>0</td>\n",
       "      <td>0</td>\n",
       "      <td>0</td>\n",
       "      <td>...</td>\n",
       "      <td>0</td>\n",
       "      <td>0</td>\n",
       "      <td>0</td>\n",
       "      <td>0</td>\n",
       "      <td>0</td>\n",
       "      <td>0</td>\n",
       "      <td>0</td>\n",
       "      <td>0</td>\n",
       "      <td>0</td>\n",
       "      <td>0</td>\n",
       "    </tr>\n",
       "  </tbody>\n",
       "</table>\n",
       "<p>5 rows × 2935 columns</p>\n",
       "</div>"
      ],
      "text/plain": [
       "   (    oz.) tomato sauce  1% low-fat milk  2% reduced-fat milk  \\\n",
       "0                       0                0                    0   \n",
       "1                       0                0                    0   \n",
       "2                       0                0                    0   \n",
       "3                       0                0                    0   \n",
       "4                       0                0                    0   \n",
       "\n",
       "   33% less sodium smoked fully cooked ham  A Taste of Thai Rice Noodles  \\\n",
       "0                                        0                             0   \n",
       "1                                        0                             0   \n",
       "2                                        0                             0   \n",
       "3                                        0                             0   \n",
       "4                                        0                             0   \n",
       "\n",
       "   Alaskan king crab legs  Anaheim chile  Angostura bitters  Argo Corn Starch  \\\n",
       "0                       0              0                  0                 0   \n",
       "1                       0              0                  0                 0   \n",
       "2                       0              0                  0                 0   \n",
       "3                       0              0                  0                 0   \n",
       "4                       0              0                  0                 0   \n",
       "\n",
       "   Asian chili sauce    ...     yellowtail  yoghurt  yolk  young coconut meat  \\\n",
       "0                  0    ...              0        0     0                   0   \n",
       "1                  0    ...              0        0     0                   0   \n",
       "2                  0    ...              0        0     0                   0   \n",
       "3                  0    ...              0        0     0                   0   \n",
       "4                  0    ...              0        0     0                   0   \n",
       "\n",
       "   yu choy  yukon gold potatoes  yuzu  yuzu juice  zest  zucchini  \n",
       "0        0                    0     0           0     0         0  \n",
       "1        0                    0     0           0     0         0  \n",
       "2        0                    0     0           0     0         0  \n",
       "3        0                    0     0           0     0         0  \n",
       "4        0                    0     0           0     0         0  \n",
       "\n",
       "[5 rows x 2935 columns]"
      ]
     },
     "execution_count": 5,
     "metadata": {},
     "output_type": "execute_result"
    }
   ],
   "source": [
    "#X now contains columns for each of the ~3,000 ingredients. Note that many of the ingredients have seemingly\n",
    "#superfluous descriptors and varied spellings.\n",
    "\n",
    "X.head()"
   ]
  },
  {
   "cell_type": "code",
   "execution_count": 6,
   "metadata": {},
   "outputs": [],
   "source": [
    "#2 Train/Test Split - split into training and test sets\n",
    "\n",
    "X_train, X_test, y_train, y_test = train_test_split(X, y, random_state=31)"
   ]
  },
  {
   "cell_type": "code",
   "execution_count": 39,
   "metadata": {},
   "outputs": [
    {
     "data": {
      "text/plain": [
       "0.3746571585298958"
      ]
     },
     "execution_count": 39,
     "metadata": {},
     "output_type": "execute_result"
    }
   ],
   "source": [
    "#Calculate null accuracy - use Dummy Classifier, predict all recipes are Chinese - 37%\n",
    "from sklearn.dummy import DummyClassifier\n",
    "dummy = DummyClassifier(strategy='most_frequent', random_state=31)\n",
    "dummy.fit(X_train, y_train)\n",
    "dummy.score(X_test, y_test)"
   ]
  },
  {
   "cell_type": "code",
   "execution_count": 40,
   "metadata": {},
   "outputs": [],
   "source": [
    "#Create series containing all Chinese entries to utilize for our null accuracy\n",
    "y_all_chinese = ['chinese'] * 1823\n",
    "y_all_chinese = pd.Series(y_all_chinese)"
   ]
  },
  {
   "cell_type": "code",
   "execution_count": 42,
   "metadata": {},
   "outputs": [
    {
     "name": "stdout",
     "output_type": "stream",
     "text": [
      "              precision    recall  f1-score   support\n",
      "\n",
      "     chinese       0.37      1.00      0.55       683\n",
      "    japanese       0.00      0.00      0.00       376\n",
      "      korean       0.00      0.00      0.00       199\n",
      "        thai       0.00      0.00      0.00       353\n",
      "  vietnamese       0.00      0.00      0.00       212\n",
      "\n",
      "   micro avg       0.37      0.37      0.37      1823\n",
      "   macro avg       0.07      0.20      0.11      1823\n",
      "weighted avg       0.14      0.37      0.20      1823\n",
      "\n"
     ]
    },
    {
     "name": "stderr",
     "output_type": "stream",
     "text": [
      "/anaconda3/lib/python3.6/site-packages/sklearn/metrics/classification.py:1143: UndefinedMetricWarning: Precision and F-score are ill-defined and being set to 0.0 in labels with no predicted samples.\n",
      "  'precision', 'predicted', average, warn_for)\n",
      "/anaconda3/lib/python3.6/site-packages/sklearn/metrics/classification.py:1143: UndefinedMetricWarning: Precision and F-score are ill-defined and being set to 0.0 in labels with no predicted samples.\n",
      "  'precision', 'predicted', average, warn_for)\n",
      "/anaconda3/lib/python3.6/site-packages/sklearn/metrics/classification.py:1143: UndefinedMetricWarning: Precision and F-score are ill-defined and being set to 0.0 in labels with no predicted samples.\n",
      "  'precision', 'predicted', average, warn_for)\n"
     ]
    }
   ],
   "source": [
    "#Look at classification report for model assuming all recipes are Chinese\n",
    "#print((metrics.accuracy_score(y_test, y_all_chinese)))\n",
    "print(classification_report(y_test, y_all_chinese))"
   ]
  },
  {
   "cell_type": "code",
   "execution_count": 232,
   "metadata": {},
   "outputs": [
    {
     "data": {
      "text/plain": [
       "DecisionTreeClassifier(class_weight=None, criterion='gini', max_depth=None,\n",
       "            max_features=None, max_leaf_nodes=None,\n",
       "            min_impurity_decrease=0.0, min_impurity_split=None,\n",
       "            min_samples_leaf=1, min_samples_split=2,\n",
       "            min_weight_fraction_leaf=0.0, presort=False, random_state=31,\n",
       "            splitter='best')"
      ]
     },
     "execution_count": 232,
     "metadata": {},
     "output_type": "execute_result"
    }
   ],
   "source": [
    "#3 Instantiate & fit Classification Decision Tree with no max depth\n",
    "\n",
    "treeclf = DecisionTreeClassifier(random_state=31)\n",
    "treeclf.fit(X_train, y_train)"
   ]
  },
  {
   "cell_type": "code",
   "execution_count": 233,
   "metadata": {
    "scrolled": true
   },
   "outputs": [
    {
     "data": {
      "text/html": [
       "<div>\n",
       "<style scoped>\n",
       "    .dataframe tbody tr th:only-of-type {\n",
       "        vertical-align: middle;\n",
       "    }\n",
       "\n",
       "    .dataframe tbody tr th {\n",
       "        vertical-align: top;\n",
       "    }\n",
       "\n",
       "    .dataframe thead th {\n",
       "        text-align: right;\n",
       "    }\n",
       "</style>\n",
       "<table border=\"1\" class=\"dataframe\">\n",
       "  <thead>\n",
       "    <tr style=\"text-align: right;\">\n",
       "      <th></th>\n",
       "      <th>feature</th>\n",
       "      <th>importance</th>\n",
       "    </tr>\n",
       "  </thead>\n",
       "  <tbody>\n",
       "    <tr>\n",
       "      <th>1077</th>\n",
       "      <td>fish sauce</td>\n",
       "      <td>0.077247</td>\n",
       "    </tr>\n",
       "    <tr>\n",
       "      <th>793</th>\n",
       "      <td>corn starch</td>\n",
       "      <td>0.048643</td>\n",
       "    </tr>\n",
       "    <tr>\n",
       "      <th>1774</th>\n",
       "      <td>mirin</td>\n",
       "      <td>0.045224</td>\n",
       "    </tr>\n",
       "    <tr>\n",
       "      <th>732</th>\n",
       "      <td>coconut milk</td>\n",
       "      <td>0.035621</td>\n",
       "    </tr>\n",
       "    <tr>\n",
       "      <th>36</th>\n",
       "      <td>Gochujang base</td>\n",
       "      <td>0.025111</td>\n",
       "    </tr>\n",
       "    <tr>\n",
       "      <th>2345</th>\n",
       "      <td>sesame oil</td>\n",
       "      <td>0.018014</td>\n",
       "    </tr>\n",
       "    <tr>\n",
       "      <th>1138</th>\n",
       "      <td>fresh lime juice</td>\n",
       "      <td>0.014014</td>\n",
       "    </tr>\n",
       "    <tr>\n",
       "      <th>2262</th>\n",
       "      <td>sake</td>\n",
       "      <td>0.012754</td>\n",
       "    </tr>\n",
       "    <tr>\n",
       "      <th>632</th>\n",
       "      <td>chinese five-spice powder</td>\n",
       "      <td>0.011977</td>\n",
       "    </tr>\n",
       "    <tr>\n",
       "      <th>1610</th>\n",
       "      <td>lime juice</td>\n",
       "      <td>0.011658</td>\n",
       "    </tr>\n",
       "    <tr>\n",
       "      <th>2753</th>\n",
       "      <td>unsweetened coconut milk</td>\n",
       "      <td>0.011456</td>\n",
       "    </tr>\n",
       "    <tr>\n",
       "      <th>1517</th>\n",
       "      <td>kimchi</td>\n",
       "      <td>0.010592</td>\n",
       "    </tr>\n",
       "    <tr>\n",
       "      <th>2349</th>\n",
       "      <td>sesame seeds</td>\n",
       "      <td>0.010571</td>\n",
       "    </tr>\n",
       "    <tr>\n",
       "      <th>1609</th>\n",
       "      <td>lime</td>\n",
       "      <td>0.009920</td>\n",
       "    </tr>\n",
       "    <tr>\n",
       "      <th>2806</th>\n",
       "      <td>water</td>\n",
       "      <td>0.008761</td>\n",
       "    </tr>\n",
       "    <tr>\n",
       "      <th>2773</th>\n",
       "      <td>vegetable oil</td>\n",
       "      <td>0.007693</td>\n",
       "    </tr>\n",
       "    <tr>\n",
       "      <th>99</th>\n",
       "      <td>Thai red curry paste</td>\n",
       "      <td>0.007356</td>\n",
       "    </tr>\n",
       "    <tr>\n",
       "      <th>1417</th>\n",
       "      <td>hoisin sauce</td>\n",
       "      <td>0.006982</td>\n",
       "    </tr>\n",
       "    <tr>\n",
       "      <th>1840</th>\n",
       "      <td>nori</td>\n",
       "      <td>0.006935</td>\n",
       "    </tr>\n",
       "    <tr>\n",
       "      <th>2557</th>\n",
       "      <td>sugar</td>\n",
       "      <td>0.006688</td>\n",
       "    </tr>\n",
       "    <tr>\n",
       "      <th>1217</th>\n",
       "      <td>garlic</td>\n",
       "      <td>0.006468</td>\n",
       "    </tr>\n",
       "    <tr>\n",
       "      <th>1586</th>\n",
       "      <td>lemongrass</td>\n",
       "      <td>0.006399</td>\n",
       "    </tr>\n",
       "    <tr>\n",
       "      <th>1323</th>\n",
       "      <td>green onions</td>\n",
       "      <td>0.006322</td>\n",
       "    </tr>\n",
       "    <tr>\n",
       "      <th>2276</th>\n",
       "      <td>salt</td>\n",
       "      <td>0.006292</td>\n",
       "    </tr>\n",
       "    <tr>\n",
       "      <th>2483</th>\n",
       "      <td>soy sauce</td>\n",
       "      <td>0.006273</td>\n",
       "    </tr>\n",
       "    <tr>\n",
       "      <th>502</th>\n",
       "      <td>carrots</td>\n",
       "      <td>0.006244</td>\n",
       "    </tr>\n",
       "    <tr>\n",
       "      <th>1341</th>\n",
       "      <td>ground black pepper</td>\n",
       "      <td>0.006210</td>\n",
       "    </tr>\n",
       "    <tr>\n",
       "      <th>2678</th>\n",
       "      <td>toasted sesame seeds</td>\n",
       "      <td>0.006192</td>\n",
       "    </tr>\n",
       "    <tr>\n",
       "      <th>1900</th>\n",
       "      <td>oyster sauce</td>\n",
       "      <td>0.005985</td>\n",
       "    </tr>\n",
       "    <tr>\n",
       "      <th>332</th>\n",
       "      <td>black pepper</td>\n",
       "      <td>0.005961</td>\n",
       "    </tr>\n",
       "    <tr>\n",
       "      <th>...</th>\n",
       "      <td>...</td>\n",
       "      <td>...</td>\n",
       "    </tr>\n",
       "    <tr>\n",
       "      <th>1110</th>\n",
       "      <td>french bread</td>\n",
       "      <td>0.000000</td>\n",
       "    </tr>\n",
       "    <tr>\n",
       "      <th>1099</th>\n",
       "      <td>flour tortillas (not low fat)</td>\n",
       "      <td>0.000000</td>\n",
       "    </tr>\n",
       "    <tr>\n",
       "      <th>1111</th>\n",
       "      <td>french fried onions</td>\n",
       "      <td>0.000000</td>\n",
       "    </tr>\n",
       "    <tr>\n",
       "      <th>1112</th>\n",
       "      <td>french fries</td>\n",
       "      <td>0.000000</td>\n",
       "    </tr>\n",
       "    <tr>\n",
       "      <th>1113</th>\n",
       "      <td>french rolls</td>\n",
       "      <td>0.000000</td>\n",
       "    </tr>\n",
       "    <tr>\n",
       "      <th>1114</th>\n",
       "      <td>french style sandwich rolls</td>\n",
       "      <td>0.000000</td>\n",
       "    </tr>\n",
       "    <tr>\n",
       "      <th>1115</th>\n",
       "      <td>fresh angel hair</td>\n",
       "      <td>0.000000</td>\n",
       "    </tr>\n",
       "    <tr>\n",
       "      <th>1116</th>\n",
       "      <td>fresh asparagus</td>\n",
       "      <td>0.000000</td>\n",
       "    </tr>\n",
       "    <tr>\n",
       "      <th>1119</th>\n",
       "      <td>fresh bean</td>\n",
       "      <td>0.000000</td>\n",
       "    </tr>\n",
       "    <tr>\n",
       "      <th>1100</th>\n",
       "      <td>flowering chinese chives</td>\n",
       "      <td>0.000000</td>\n",
       "    </tr>\n",
       "    <tr>\n",
       "      <th>1098</th>\n",
       "      <td>flour tortillas</td>\n",
       "      <td>0.000000</td>\n",
       "    </tr>\n",
       "    <tr>\n",
       "      <th>1074</th>\n",
       "      <td>fish fillets</td>\n",
       "      <td>0.000000</td>\n",
       "    </tr>\n",
       "    <tr>\n",
       "      <th>1086</th>\n",
       "      <td>flat cut</td>\n",
       "      <td>0.000000</td>\n",
       "    </tr>\n",
       "    <tr>\n",
       "      <th>1075</th>\n",
       "      <td>fish fingers</td>\n",
       "      <td>0.000000</td>\n",
       "    </tr>\n",
       "    <tr>\n",
       "      <th>1076</th>\n",
       "      <td>fish paste</td>\n",
       "      <td>0.000000</td>\n",
       "    </tr>\n",
       "    <tr>\n",
       "      <th>1078</th>\n",
       "      <td>fish stock</td>\n",
       "      <td>0.000000</td>\n",
       "    </tr>\n",
       "    <tr>\n",
       "      <th>1080</th>\n",
       "      <td>five spice</td>\n",
       "      <td>0.000000</td>\n",
       "    </tr>\n",
       "    <tr>\n",
       "      <th>1081</th>\n",
       "      <td>five-spice powder</td>\n",
       "      <td>0.000000</td>\n",
       "    </tr>\n",
       "    <tr>\n",
       "      <th>1082</th>\n",
       "      <td>flaked</td>\n",
       "      <td>0.000000</td>\n",
       "    </tr>\n",
       "    <tr>\n",
       "      <th>1083</th>\n",
       "      <td>flaked coconut</td>\n",
       "      <td>0.000000</td>\n",
       "    </tr>\n",
       "    <tr>\n",
       "      <th>1087</th>\n",
       "      <td>flat iron steaks</td>\n",
       "      <td>0.000000</td>\n",
       "    </tr>\n",
       "    <tr>\n",
       "      <th>1097</th>\n",
       "      <td>flour for dusting</td>\n",
       "      <td>0.000000</td>\n",
       "    </tr>\n",
       "    <tr>\n",
       "      <th>1088</th>\n",
       "      <td>flat leaf parsley</td>\n",
       "      <td>0.000000</td>\n",
       "    </tr>\n",
       "    <tr>\n",
       "      <th>1090</th>\n",
       "      <td>flatbread</td>\n",
       "      <td>0.000000</td>\n",
       "    </tr>\n",
       "    <tr>\n",
       "      <th>1091</th>\n",
       "      <td>flavored oil</td>\n",
       "      <td>0.000000</td>\n",
       "    </tr>\n",
       "    <tr>\n",
       "      <th>1092</th>\n",
       "      <td>flavored wine</td>\n",
       "      <td>0.000000</td>\n",
       "    </tr>\n",
       "    <tr>\n",
       "      <th>1093</th>\n",
       "      <td>flavoring</td>\n",
       "      <td>0.000000</td>\n",
       "    </tr>\n",
       "    <tr>\n",
       "      <th>1094</th>\n",
       "      <td>fleur de sel</td>\n",
       "      <td>0.000000</td>\n",
       "    </tr>\n",
       "    <tr>\n",
       "      <th>1095</th>\n",
       "      <td>florets</td>\n",
       "      <td>0.000000</td>\n",
       "    </tr>\n",
       "    <tr>\n",
       "      <th>1467</th>\n",
       "      <td>jalape</td>\n",
       "      <td>0.000000</td>\n",
       "    </tr>\n",
       "  </tbody>\n",
       "</table>\n",
       "<p>2935 rows × 2 columns</p>\n",
       "</div>"
      ],
      "text/plain": [
       "                            feature  importance\n",
       "1077                     fish sauce    0.077247\n",
       "793                     corn starch    0.048643\n",
       "1774                          mirin    0.045224\n",
       "732                    coconut milk    0.035621\n",
       "36                   Gochujang base    0.025111\n",
       "2345                     sesame oil    0.018014\n",
       "1138               fresh lime juice    0.014014\n",
       "2262                           sake    0.012754\n",
       "632       chinese five-spice powder    0.011977\n",
       "1610                     lime juice    0.011658\n",
       "2753       unsweetened coconut milk    0.011456\n",
       "1517                         kimchi    0.010592\n",
       "2349                   sesame seeds    0.010571\n",
       "1609                           lime    0.009920\n",
       "2806                          water    0.008761\n",
       "2773                  vegetable oil    0.007693\n",
       "99             Thai red curry paste    0.007356\n",
       "1417                   hoisin sauce    0.006982\n",
       "1840                           nori    0.006935\n",
       "2557                          sugar    0.006688\n",
       "1217                         garlic    0.006468\n",
       "1586                     lemongrass    0.006399\n",
       "1323                   green onions    0.006322\n",
       "2276                           salt    0.006292\n",
       "2483                      soy sauce    0.006273\n",
       "502                         carrots    0.006244\n",
       "1341            ground black pepper    0.006210\n",
       "2678           toasted sesame seeds    0.006192\n",
       "1900                   oyster sauce    0.005985\n",
       "332                    black pepper    0.005961\n",
       "...                             ...         ...\n",
       "1110                   french bread    0.000000\n",
       "1099  flour tortillas (not low fat)    0.000000\n",
       "1111            french fried onions    0.000000\n",
       "1112                   french fries    0.000000\n",
       "1113                   french rolls    0.000000\n",
       "1114    french style sandwich rolls    0.000000\n",
       "1115               fresh angel hair    0.000000\n",
       "1116                fresh asparagus    0.000000\n",
       "1119                     fresh bean    0.000000\n",
       "1100       flowering chinese chives    0.000000\n",
       "1098                flour tortillas    0.000000\n",
       "1074                   fish fillets    0.000000\n",
       "1086                       flat cut    0.000000\n",
       "1075                   fish fingers    0.000000\n",
       "1076                     fish paste    0.000000\n",
       "1078                     fish stock    0.000000\n",
       "1080                     five spice    0.000000\n",
       "1081              five-spice powder    0.000000\n",
       "1082                         flaked    0.000000\n",
       "1083                 flaked coconut    0.000000\n",
       "1087               flat iron steaks    0.000000\n",
       "1097              flour for dusting    0.000000\n",
       "1088              flat leaf parsley    0.000000\n",
       "1090                      flatbread    0.000000\n",
       "1091                   flavored oil    0.000000\n",
       "1092                  flavored wine    0.000000\n",
       "1093                      flavoring    0.000000\n",
       "1094                   fleur de sel    0.000000\n",
       "1095                        florets    0.000000\n",
       "1467                         jalape    0.000000\n",
       "\n",
       "[2935 rows x 2 columns]"
      ]
     },
     "execution_count": 233,
     "metadata": {},
     "output_type": "execute_result"
    }
   ],
   "source": [
    "#Look at feature importance\n",
    "\n",
    "pd.DataFrame({'feature':X_train.columns, 'importance':treeclf.feature_importances_})\\\n",
    "    .sort_values('importance', ascending=False)"
   ]
  },
  {
   "cell_type": "code",
   "execution_count": 234,
   "metadata": {},
   "outputs": [
    {
     "data": {
      "image/svg+xml": [
       "<svg height=\"356pt\" viewBox=\"0.00 0.00 783.50 356.00\" width=\"784pt\" xmlns=\"http://www.w3.org/2000/svg\" xmlns:xlink=\"http://www.w3.org/1999/xlink\">\n",
       "<g class=\"graph\" id=\"graph0\" transform=\"scale(1 1) rotate(0) translate(4 352)\">\n",
       "<title>Tree</title>\n",
       "<polygon fill=\"#ffffff\" points=\"-4,4 -4,-352 779.5,-352 779.5,4 -4,4\" stroke=\"transparent\"/>\n",
       "<!-- 0 -->\n",
       "<g class=\"node\" id=\"node1\">\n",
       "<title>0</title>\n",
       "<polygon fill=\"none\" points=\"531,-348 306,-348 306,-280 531,-280 531,-348\" stroke=\"#000000\"/>\n",
       "<text fill=\"#000000\" font-family=\"Times,serif\" font-size=\"14.00\" text-anchor=\"middle\" x=\"418.5\" y=\"-332.8\">fish sauce &lt;= 0.5</text>\n",
       "<text fill=\"#000000\" font-family=\"Times,serif\" font-size=\"14.00\" text-anchor=\"middle\" x=\"418.5\" y=\"-317.8\">gini = 0.758</text>\n",
       "<text fill=\"#000000\" font-family=\"Times,serif\" font-size=\"14.00\" text-anchor=\"middle\" x=\"418.5\" y=\"-302.8\">samples = 5467</text>\n",
       "<text fill=\"#000000\" font-family=\"Times,serif\" font-size=\"14.00\" text-anchor=\"middle\" x=\"418.5\" y=\"-287.8\">value = [1990, 1047, 631, 1186, 613]</text>\n",
       "</g>\n",
       "<!-- 1 -->\n",
       "<g class=\"node\" id=\"node2\">\n",
       "<title>1</title>\n",
       "<polygon fill=\"none\" points=\"420.5,-244 202.5,-244 202.5,-176 420.5,-176 420.5,-244\" stroke=\"#000000\"/>\n",
       "<text fill=\"#000000\" font-family=\"Times,serif\" font-size=\"14.00\" text-anchor=\"middle\" x=\"311.5\" y=\"-228.8\">corn starch &lt;= 0.5</text>\n",
       "<text fill=\"#000000\" font-family=\"Times,serif\" font-size=\"14.00\" text-anchor=\"middle\" x=\"311.5\" y=\"-213.8\">gini = 0.725</text>\n",
       "<text fill=\"#000000\" font-family=\"Times,serif\" font-size=\"14.00\" text-anchor=\"middle\" x=\"311.5\" y=\"-198.8\">samples = 4600</text>\n",
       "<text fill=\"#000000\" font-family=\"Times,serif\" font-size=\"14.00\" text-anchor=\"middle\" x=\"311.5\" y=\"-183.8\">value = [1945, 1042, 596, 692, 325]</text>\n",
       "</g>\n",
       "<!-- 0&#45;&gt;1 -->\n",
       "<g class=\"edge\" id=\"edge1\">\n",
       "<title>0-&gt;1</title>\n",
       "<path d=\"M383.4642,-279.9465C374.0419,-270.7884 363.7487,-260.7838 353.9696,-251.2788\" fill=\"none\" stroke=\"#000000\"/>\n",
       "<polygon fill=\"#000000\" points=\"356.2249,-248.59 346.6145,-244.13 351.346,-253.6097 356.2249,-248.59\" stroke=\"#000000\"/>\n",
       "<text fill=\"#000000\" font-family=\"Times,serif\" font-size=\"14.00\" text-anchor=\"middle\" x=\"346.9699\" y=\"-265.4275\">True</text>\n",
       "</g>\n",
       "<!-- 2264 -->\n",
       "<g class=\"node\" id=\"node9\">\n",
       "<title>2264</title>\n",
       "<polygon fill=\"none\" points=\"614.5,-244 438.5,-244 438.5,-176 614.5,-176 614.5,-244\" stroke=\"#000000\"/>\n",
       "<text fill=\"#000000\" font-family=\"Times,serif\" font-size=\"14.00\" text-anchor=\"middle\" x=\"526.5\" y=\"-228.8\">coconut milk &lt;= 0.5</text>\n",
       "<text fill=\"#000000\" font-family=\"Times,serif\" font-size=\"14.00\" text-anchor=\"middle\" x=\"526.5\" y=\"-213.8\">gini = 0.561</text>\n",
       "<text fill=\"#000000\" font-family=\"Times,serif\" font-size=\"14.00\" text-anchor=\"middle\" x=\"526.5\" y=\"-198.8\">samples = 867</text>\n",
       "<text fill=\"#000000\" font-family=\"Times,serif\" font-size=\"14.00\" text-anchor=\"middle\" x=\"526.5\" y=\"-183.8\">value = [45, 5, 35, 494, 288]</text>\n",
       "</g>\n",
       "<!-- 0&#45;&gt;2264 -->\n",
       "<g class=\"edge\" id=\"edge8\">\n",
       "<title>0-&gt;2264</title>\n",
       "<path d=\"M453.8632,-279.9465C463.3736,-270.7884 473.763,-260.7838 483.6335,-251.2788\" fill=\"none\" stroke=\"#000000\"/>\n",
       "<polygon fill=\"#000000\" points=\"486.2818,-253.5876 491.0573,-244.13 481.4263,-248.5453 486.2818,-253.5876\" stroke=\"#000000\"/>\n",
       "<text fill=\"#000000\" font-family=\"Times,serif\" font-size=\"14.00\" text-anchor=\"middle\" x=\"490.5857\" y=\"-265.4255\">False</text>\n",
       "</g>\n",
       "<!-- 2 -->\n",
       "<g class=\"node\" id=\"node3\">\n",
       "<title>2</title>\n",
       "<polygon fill=\"none\" points=\"211,-140 0,-140 0,-72 211,-72 211,-140\" stroke=\"#000000\"/>\n",
       "<text fill=\"#000000\" font-family=\"Times,serif\" font-size=\"14.00\" text-anchor=\"middle\" x=\"105.5\" y=\"-124.8\">mirin &lt;= 0.5</text>\n",
       "<text fill=\"#000000\" font-family=\"Times,serif\" font-size=\"14.00\" text-anchor=\"middle\" x=\"105.5\" y=\"-109.8\">gini = 0.761</text>\n",
       "<text fill=\"#000000\" font-family=\"Times,serif\" font-size=\"14.00\" text-anchor=\"middle\" x=\"105.5\" y=\"-94.8\">samples = 3797</text>\n",
       "<text fill=\"#000000\" font-family=\"Times,serif\" font-size=\"14.00\" text-anchor=\"middle\" x=\"105.5\" y=\"-79.8\">value = [1284, 971, 576, 658, 308]</text>\n",
       "</g>\n",
       "<!-- 1&#45;&gt;2 -->\n",
       "<g class=\"edge\" id=\"edge2\">\n",
       "<title>1-&gt;2</title>\n",
       "<path d=\"M244.0479,-175.9465C224.2183,-165.9354 202.3851,-154.9129 182.0312,-144.6371\" fill=\"none\" stroke=\"#000000\"/>\n",
       "<polygon fill=\"#000000\" points=\"183.6079,-141.5124 173.1036,-140.13 180.4531,-147.7612 183.6079,-141.5124\" stroke=\"#000000\"/>\n",
       "</g>\n",
       "<!-- 2023 -->\n",
       "<g class=\"node\" id=\"node6\">\n",
       "<title>2023</title>\n",
       "<polygon fill=\"none\" points=\"405.5,-140 229.5,-140 229.5,-72 405.5,-72 405.5,-140\" stroke=\"#000000\"/>\n",
       "<text fill=\"#000000\" font-family=\"Times,serif\" font-size=\"14.00\" text-anchor=\"middle\" x=\"317.5\" y=\"-124.8\">mirin &lt;= 0.5</text>\n",
       "<text fill=\"#000000\" font-family=\"Times,serif\" font-size=\"14.00\" text-anchor=\"middle\" x=\"317.5\" y=\"-109.8\">gini = 0.312</text>\n",
       "<text fill=\"#000000\" font-family=\"Times,serif\" font-size=\"14.00\" text-anchor=\"middle\" x=\"317.5\" y=\"-94.8\">samples = 803</text>\n",
       "<text fill=\"#000000\" font-family=\"Times,serif\" font-size=\"14.00\" text-anchor=\"middle\" x=\"317.5\" y=\"-79.8\">value = [661, 71, 20, 34, 17]</text>\n",
       "</g>\n",
       "<!-- 1&#45;&gt;2023 -->\n",
       "<g class=\"edge\" id=\"edge5\">\n",
       "<title>1-&gt;2023</title>\n",
       "<path d=\"M313.4646,-175.9465C313.936,-167.776 314.4462,-158.9318 314.9402,-150.3697\" fill=\"none\" stroke=\"#000000\"/>\n",
       "<polygon fill=\"#000000\" points=\"318.4491,-150.315 315.531,-140.13 311.4607,-149.9118 318.4491,-150.315\" stroke=\"#000000\"/>\n",
       "</g>\n",
       "<!-- 3 -->\n",
       "<g class=\"node\" id=\"node4\">\n",
       "<title>3</title>\n",
       "<polygon fill=\"none\" points=\"96.5,-36 42.5,-36 42.5,0 96.5,0 96.5,-36\" stroke=\"#000000\"/>\n",
       "<text fill=\"#000000\" font-family=\"Times,serif\" font-size=\"14.00\" text-anchor=\"middle\" x=\"69.5\" y=\"-14.3\">(...)</text>\n",
       "</g>\n",
       "<!-- 2&#45;&gt;3 -->\n",
       "<g class=\"edge\" id=\"edge3\">\n",
       "<title>2-&gt;3</title>\n",
       "<path d=\"M91.5815,-71.9769C87.9977,-63.2167 84.1862,-53.8995 80.7564,-45.5157\" fill=\"none\" stroke=\"#000000\"/>\n",
       "<polygon fill=\"#000000\" points=\"83.968,-44.1222 76.9422,-36.192 77.4891,-46.7727 83.968,-44.1222\" stroke=\"#000000\"/>\n",
       "</g>\n",
       "<!-- 1948 -->\n",
       "<g class=\"node\" id=\"node5\">\n",
       "<title>1948</title>\n",
       "<polygon fill=\"none\" points=\"168.5,-36 114.5,-36 114.5,0 168.5,0 168.5,-36\" stroke=\"#000000\"/>\n",
       "<text fill=\"#000000\" font-family=\"Times,serif\" font-size=\"14.00\" text-anchor=\"middle\" x=\"141.5\" y=\"-14.3\">(...)</text>\n",
       "</g>\n",
       "<!-- 2&#45;&gt;1948 -->\n",
       "<g class=\"edge\" id=\"edge4\">\n",
       "<title>2-&gt;1948</title>\n",
       "<path d=\"M119.4185,-71.9769C123.0023,-63.2167 126.8138,-53.8995 130.2436,-45.5157\" fill=\"none\" stroke=\"#000000\"/>\n",
       "<polygon fill=\"#000000\" points=\"133.5109,-46.7727 134.0578,-36.192 127.032,-44.1222 133.5109,-46.7727\" stroke=\"#000000\"/>\n",
       "</g>\n",
       "<!-- 2024 -->\n",
       "<g class=\"node\" id=\"node7\">\n",
       "<title>2024</title>\n",
       "<polygon fill=\"none\" points=\"325.5,-36 271.5,-36 271.5,0 325.5,0 325.5,-36\" stroke=\"#000000\"/>\n",
       "<text fill=\"#000000\" font-family=\"Times,serif\" font-size=\"14.00\" text-anchor=\"middle\" x=\"298.5\" y=\"-14.3\">(...)</text>\n",
       "</g>\n",
       "<!-- 2023&#45;&gt;2024 -->\n",
       "<g class=\"edge\" id=\"edge6\">\n",
       "<title>2023-&gt;2024</title>\n",
       "<path d=\"M310.1541,-71.9769C308.3038,-63.4071 306.3384,-54.3043 304.5592,-46.0638\" fill=\"none\" stroke=\"#000000\"/>\n",
       "<polygon fill=\"#000000\" points=\"307.9595,-45.228 302.4278,-36.192 301.1172,-46.7054 307.9595,-45.228\" stroke=\"#000000\"/>\n",
       "</g>\n",
       "<!-- 2247 -->\n",
       "<g class=\"node\" id=\"node8\">\n",
       "<title>2247</title>\n",
       "<polygon fill=\"none\" points=\"397.5,-36 343.5,-36 343.5,0 397.5,0 397.5,-36\" stroke=\"#000000\"/>\n",
       "<text fill=\"#000000\" font-family=\"Times,serif\" font-size=\"14.00\" text-anchor=\"middle\" x=\"370.5\" y=\"-14.3\">(...)</text>\n",
       "</g>\n",
       "<!-- 2023&#45;&gt;2247 -->\n",
       "<g class=\"edge\" id=\"edge7\">\n",
       "<title>2023-&gt;2247</title>\n",
       "<path d=\"M337.9912,-71.9769C343.3819,-63.0262 349.1228,-53.4941 354.2565,-44.9703\" fill=\"none\" stroke=\"#000000\"/>\n",
       "<polygon fill=\"#000000\" points=\"357.3824,-46.5641 359.5435,-36.192 351.386,-42.9525 357.3824,-46.5641\" stroke=\"#000000\"/>\n",
       "</g>\n",
       "<!-- 2265 -->\n",
       "<g class=\"node\" id=\"node10\">\n",
       "<title>2265</title>\n",
       "<polygon fill=\"none\" points=\"609.5,-140 433.5,-140 433.5,-72 609.5,-72 609.5,-140\" stroke=\"#000000\"/>\n",
       "<text fill=\"#000000\" font-family=\"Times,serif\" font-size=\"14.00\" text-anchor=\"middle\" x=\"521.5\" y=\"-124.8\">ground black pepper &lt;= 0.5</text>\n",
       "<text fill=\"#000000\" font-family=\"Times,serif\" font-size=\"14.00\" text-anchor=\"middle\" x=\"521.5\" y=\"-109.8\">gini = 0.602</text>\n",
       "<text fill=\"#000000\" font-family=\"Times,serif\" font-size=\"14.00\" text-anchor=\"middle\" x=\"521.5\" y=\"-94.8\">samples = 714</text>\n",
       "<text fill=\"#000000\" font-family=\"Times,serif\" font-size=\"14.00\" text-anchor=\"middle\" x=\"521.5\" y=\"-79.8\">value = [45, 5, 35, 345, 284]</text>\n",
       "</g>\n",
       "<!-- 2264&#45;&gt;2265 -->\n",
       "<g class=\"edge\" id=\"edge9\">\n",
       "<title>2264-&gt;2265</title>\n",
       "<path d=\"M524.8628,-175.9465C524.47,-167.776 524.0448,-158.9318 523.6332,-150.3697\" fill=\"none\" stroke=\"#000000\"/>\n",
       "<polygon fill=\"#000000\" points=\"527.1171,-149.9504 523.1409,-140.13 520.1252,-150.2866 527.1171,-149.9504\" stroke=\"#000000\"/>\n",
       "</g>\n",
       "<!-- 2644 -->\n",
       "<g class=\"node\" id=\"node13\">\n",
       "<title>2644</title>\n",
       "<polygon fill=\"none\" points=\"775.5,-140 627.5,-140 627.5,-72 775.5,-72 775.5,-140\" stroke=\"#000000\"/>\n",
       "<text fill=\"#000000\" font-family=\"Times,serif\" font-size=\"14.00\" text-anchor=\"middle\" x=\"701.5\" y=\"-124.8\">rice flour &lt;= 0.5</text>\n",
       "<text fill=\"#000000\" font-family=\"Times,serif\" font-size=\"14.00\" text-anchor=\"middle\" x=\"701.5\" y=\"-109.8\">gini = 0.051</text>\n",
       "<text fill=\"#000000\" font-family=\"Times,serif\" font-size=\"14.00\" text-anchor=\"middle\" x=\"701.5\" y=\"-94.8\">samples = 153</text>\n",
       "<text fill=\"#000000\" font-family=\"Times,serif\" font-size=\"14.00\" text-anchor=\"middle\" x=\"701.5\" y=\"-79.8\">value = [0, 0, 0, 149, 4]</text>\n",
       "</g>\n",
       "<!-- 2264&#45;&gt;2644 -->\n",
       "<g class=\"edge\" id=\"edge12\">\n",
       "<title>2264-&gt;2644</title>\n",
       "<path d=\"M583.8015,-175.9465C600.2694,-166.1599 618.3638,-155.4066 635.3207,-145.3294\" fill=\"none\" stroke=\"#000000\"/>\n",
       "<polygon fill=\"#000000\" points=\"637.2613,-148.2476 644.0697,-140.13 633.6851,-142.23 637.2613,-148.2476\" stroke=\"#000000\"/>\n",
       "</g>\n",
       "<!-- 2266 -->\n",
       "<g class=\"node\" id=\"node11\">\n",
       "<title>2266</title>\n",
       "<polygon fill=\"none\" points=\"494.5,-36 440.5,-36 440.5,0 494.5,0 494.5,-36\" stroke=\"#000000\"/>\n",
       "<text fill=\"#000000\" font-family=\"Times,serif\" font-size=\"14.00\" text-anchor=\"middle\" x=\"467.5\" y=\"-14.3\">(...)</text>\n",
       "</g>\n",
       "<!-- 2265&#45;&gt;2266 -->\n",
       "<g class=\"edge\" id=\"edge10\">\n",
       "<title>2265-&gt;2266</title>\n",
       "<path d=\"M500.6222,-71.9769C495.1297,-63.0262 489.2805,-53.4941 484.0499,-44.9703\" fill=\"none\" stroke=\"#000000\"/>\n",
       "<polygon fill=\"#000000\" points=\"486.8766,-42.8846 478.6632,-36.192 480.9103,-46.5458 486.8766,-42.8846\" stroke=\"#000000\"/>\n",
       "</g>\n",
       "<!-- 2617 -->\n",
       "<g class=\"node\" id=\"node12\">\n",
       "<title>2617</title>\n",
       "<polygon fill=\"none\" points=\"566.5,-36 512.5,-36 512.5,0 566.5,0 566.5,-36\" stroke=\"#000000\"/>\n",
       "<text fill=\"#000000\" font-family=\"Times,serif\" font-size=\"14.00\" text-anchor=\"middle\" x=\"539.5\" y=\"-14.3\">(...)</text>\n",
       "</g>\n",
       "<!-- 2265&#45;&gt;2617 -->\n",
       "<g class=\"edge\" id=\"edge11\">\n",
       "<title>2265-&gt;2617</title>\n",
       "<path d=\"M528.4593,-71.9769C530.2122,-63.4071 532.0741,-54.3043 533.7597,-46.0638\" fill=\"none\" stroke=\"#000000\"/>\n",
       "<polygon fill=\"#000000\" points=\"537.2039,-46.6905 535.7789,-36.192 530.3459,-45.2877 537.2039,-46.6905\" stroke=\"#000000\"/>\n",
       "</g>\n",
       "<!-- 2645 -->\n",
       "<g class=\"node\" id=\"node14\">\n",
       "<title>2645</title>\n",
       "<polygon fill=\"none\" points=\"692.5,-36 638.5,-36 638.5,0 692.5,0 692.5,-36\" stroke=\"#000000\"/>\n",
       "<text fill=\"#000000\" font-family=\"Times,serif\" font-size=\"14.00\" text-anchor=\"middle\" x=\"665.5\" y=\"-14.3\">(...)</text>\n",
       "</g>\n",
       "<!-- 2644&#45;&gt;2645 -->\n",
       "<g class=\"edge\" id=\"edge13\">\n",
       "<title>2644-&gt;2645</title>\n",
       "<path d=\"M687.5815,-71.9769C683.9977,-63.2167 680.1862,-53.8995 676.7564,-45.5157\" fill=\"none\" stroke=\"#000000\"/>\n",
       "<polygon fill=\"#000000\" points=\"679.968,-44.1222 672.9422,-36.192 673.4891,-46.7727 679.968,-44.1222\" stroke=\"#000000\"/>\n",
       "</g>\n",
       "<!-- 2648 -->\n",
       "<g class=\"node\" id=\"node15\">\n",
       "<title>2648</title>\n",
       "<polygon fill=\"none\" points=\"764.5,-36 710.5,-36 710.5,0 764.5,0 764.5,-36\" stroke=\"#000000\"/>\n",
       "<text fill=\"#000000\" font-family=\"Times,serif\" font-size=\"14.00\" text-anchor=\"middle\" x=\"737.5\" y=\"-14.3\">(...)</text>\n",
       "</g>\n",
       "<!-- 2644&#45;&gt;2648 -->\n",
       "<g class=\"edge\" id=\"edge14\">\n",
       "<title>2644-&gt;2648</title>\n",
       "<path d=\"M715.4185,-71.9769C719.0023,-63.2167 722.8138,-53.8995 726.2436,-45.5157\" fill=\"none\" stroke=\"#000000\"/>\n",
       "<polygon fill=\"#000000\" points=\"729.5109,-46.7727 730.0578,-36.192 723.032,-44.1222 729.5109,-46.7727\" stroke=\"#000000\"/>\n",
       "</g>\n",
       "</g>\n",
       "</svg>"
      ],
      "text/plain": [
       "<IPython.core.display.SVG object>"
      ]
     },
     "execution_count": 234,
     "metadata": {},
     "output_type": "execute_result"
    }
   ],
   "source": [
    "#Look at visualization for top level of tree\n",
    "\n",
    "graph = Source(tree.export_graphviz(treeclf, out_file=None, feature_names=X_train.columns, max_depth=2))\n",
    "SVG(graph.pipe(format='svg'))"
   ]
  },
  {
   "cell_type": "code",
   "execution_count": 235,
   "metadata": {},
   "outputs": [
    {
     "data": {
      "text/plain": [
       "array(['chinese', 'chinese', 'chinese', ..., 'japanese', 'thai',\n",
       "       'chinese'], dtype=object)"
      ]
     },
     "execution_count": 235,
     "metadata": {},
     "output_type": "execute_result"
    }
   ],
   "source": [
    "#4 - Assess model. Test w test set\n",
    "y_pred = treeclf.predict(X_test)\n",
    "y_pred"
   ]
  },
  {
   "cell_type": "code",
   "execution_count": 236,
   "metadata": {},
   "outputs": [
    {
     "name": "stdout",
     "output_type": "stream",
     "text": [
      "0.6670323642347779\n"
     ]
    }
   ],
   "source": [
    "# Calculate accuracy score\n",
    "print((metrics.accuracy_score(y_test, y_pred)))"
   ]
  },
  {
   "cell_type": "code",
   "execution_count": 237,
   "metadata": {},
   "outputs": [
    {
     "name": "stdout",
     "output_type": "stream",
     "text": [
      "              precision    recall  f1-score   support\n",
      "\n",
      "     chinese       0.72      0.75      0.73       683\n",
      "    japanese       0.70      0.69      0.69       376\n",
      "      korean       0.60      0.58      0.59       199\n",
      "        thai       0.66      0.67      0.66       353\n",
      "  vietnamese       0.50      0.45      0.47       212\n",
      "\n",
      "   micro avg       0.67      0.67      0.67      1823\n",
      "   macro avg       0.63      0.63      0.63      1823\n",
      "weighted avg       0.66      0.67      0.67      1823\n",
      "\n"
     ]
    }
   ],
   "source": [
    "#Look at classification report\n",
    "\n",
    "print(classification_report(y_test, y_pred))\n",
    "#precision = % true positive out of all predicted positives - 50% of Vietnamese predictions were true\n",
    "#recall = % true positive out of all actual positives - 45% of Vietnamese recipes were predicted to be Vietnamese"
   ]
  },
  {
   "cell_type": "code",
   "execution_count": 238,
   "metadata": {},
   "outputs": [],
   "source": [
    "#Look at confusion matrix\n",
    "array = confusion_matrix(y_test, y_pred)\n",
    "df_cm = pd.DataFrame(array, index = [i for i in ['chinese', 'thai', 'japanese', 'korean', 'vietnamese']],\n",
    "                  columns = [i for i in ['chinese', 'thai', 'japanese', 'korean', 'vietnamese']])"
   ]
  },
  {
   "cell_type": "code",
   "execution_count": 239,
   "metadata": {},
   "outputs": [
    {
     "data": {
      "text/plain": [
       "<matplotlib.axes._subplots.AxesSubplot at 0x1a78b72358>"
      ]
     },
     "execution_count": 239,
     "metadata": {},
     "output_type": "execute_result"
    },
    {
     "data": {
      "image/png": "[encoded data removed]",
      "text/plain": [
       "<Figure size 432x288 with 2 Axes>"
      ]
     },
     "metadata": {},
     "output_type": "display_data"
    }
   ],
   "source": [
    "#Plot confusion matrix\n",
    "\n",
    "sns.heatmap(df_cm, annot=True, fmt='g', cmap='Blues')\n",
    "#columns = class predicted by model\n",
    "#rows = actual classes"
   ]
  },
  {
   "cell_type": "markdown",
   "metadata": {},
   "source": [
    "## Method B - Try Random Forest Model"
   ]
  },
  {
   "cell_type": "code",
   "execution_count": 240,
   "metadata": {},
   "outputs": [
    {
     "data": {
      "text/html": [
       "<div>\n",
       "<style scoped>\n",
       "    .dataframe tbody tr th:only-of-type {\n",
       "        vertical-align: middle;\n",
       "    }\n",
       "\n",
       "    .dataframe tbody tr th {\n",
       "        vertical-align: top;\n",
       "    }\n",
       "\n",
       "    .dataframe thead th {\n",
       "        text-align: right;\n",
       "    }\n",
       "</style>\n",
       "<table border=\"1\" class=\"dataframe\">\n",
       "  <thead>\n",
       "    <tr style=\"text-align: right;\">\n",
       "      <th></th>\n",
       "      <th>cuisine</th>\n",
       "      <th>id</th>\n",
       "      <th>ingredients</th>\n",
       "    </tr>\n",
       "  </thead>\n",
       "  <tbody>\n",
       "    <tr>\n",
       "      <th>0</th>\n",
       "      <td>greek</td>\n",
       "      <td>10259</td>\n",
       "      <td>[romaine lettuce, black olives, grape tomatoes...</td>\n",
       "    </tr>\n",
       "    <tr>\n",
       "      <th>1</th>\n",
       "      <td>southern_us</td>\n",
       "      <td>25693</td>\n",
       "      <td>[plain flour, ground pepper, salt, tomatoes, g...</td>\n",
       "    </tr>\n",
       "    <tr>\n",
       "      <th>2</th>\n",
       "      <td>filipino</td>\n",
       "      <td>20130</td>\n",
       "      <td>[eggs, pepper, salt, mayonaise, cooking oil, g...</td>\n",
       "    </tr>\n",
       "    <tr>\n",
       "      <th>3</th>\n",
       "      <td>indian</td>\n",
       "      <td>22213</td>\n",
       "      <td>[water, vegetable oil, wheat, salt]</td>\n",
       "    </tr>\n",
       "    <tr>\n",
       "      <th>4</th>\n",
       "      <td>indian</td>\n",
       "      <td>13162</td>\n",
       "      <td>[black pepper, shallots, cornflour, cayenne pe...</td>\n",
       "    </tr>\n",
       "  </tbody>\n",
       "</table>\n",
       "</div>"
      ],
      "text/plain": [
       "       cuisine     id                                        ingredients\n",
       "0        greek  10259  [romaine lettuce, black olives, grape tomatoes...\n",
       "1  southern_us  25693  [plain flour, ground pepper, salt, tomatoes, g...\n",
       "2     filipino  20130  [eggs, pepper, salt, mayonaise, cooking oil, g...\n",
       "3       indian  22213                [water, vegetable oil, wheat, salt]\n",
       "4       indian  13162  [black pepper, shallots, cornflour, cayenne pe..."
      ]
     },
     "execution_count": 240,
     "metadata": {},
     "output_type": "execute_result"
    }
   ],
   "source": [
    "#1 - Load in Kaggle training dataset\n",
    "with open('train.json') as f:\n",
    "    dict_train = json.load(f)\n",
    "\n",
    "recipe = pd.DataFrame(dict_train)\n",
    "recipe.head()"
   ]
  },
  {
   "cell_type": "code",
   "execution_count": 241,
   "metadata": {},
   "outputs": [
    {
     "data": {
      "text/plain": [
       "chinese       2673\n",
       "thai          1539\n",
       "japanese      1423\n",
       "korean         830\n",
       "vietnamese     825\n",
       "Name: cuisine, dtype: int64"
      ]
     },
     "execution_count": 241,
     "metadata": {},
     "output_type": "execute_result"
    }
   ],
   "source": [
    "#Filter dataset down to only the top 5 East Asian & Southeast Asian cuisines\n",
    "asian_cuisines = ['chinese', 'thai', 'japanese', 'korean', 'vietnamese']\n",
    "recipe = recipe[recipe.cuisine.isin(asian_cuisines)]\n",
    "recipe.reset_index(drop = True, inplace = True)\n",
    "recipe.cuisine.value_counts()"
   ]
  },
  {
   "cell_type": "code",
   "execution_count": 242,
   "metadata": {},
   "outputs": [],
   "source": [
    "#Split dataset into X and y, with X containing dummy variables for each ingredient and y containing cuisine categories\n",
    "\n",
    "X = pd.get_dummies(recipe['ingredients'].apply(pd.Series).stack()).sum(level=0)\n",
    "y = recipe['cuisine']"
   ]
  },
  {
   "cell_type": "code",
   "execution_count": 243,
   "metadata": {},
   "outputs": [
    {
     "data": {
      "text/html": [
       "<div>\n",
       "<style scoped>\n",
       "    .dataframe tbody tr th:only-of-type {\n",
       "        vertical-align: middle;\n",
       "    }\n",
       "\n",
       "    .dataframe tbody tr th {\n",
       "        vertical-align: top;\n",
       "    }\n",
       "\n",
       "    .dataframe thead th {\n",
       "        text-align: right;\n",
       "    }\n",
       "</style>\n",
       "<table border=\"1\" class=\"dataframe\">\n",
       "  <thead>\n",
       "    <tr style=\"text-align: right;\">\n",
       "      <th></th>\n",
       "      <th>(    oz.) tomato sauce</th>\n",
       "      <th>1% low-fat milk</th>\n",
       "      <th>2% reduced-fat milk</th>\n",
       "      <th>33% less sodium smoked fully cooked ham</th>\n",
       "      <th>A Taste of Thai Rice Noodles</th>\n",
       "      <th>Alaskan king crab legs</th>\n",
       "      <th>Anaheim chile</th>\n",
       "      <th>Angostura bitters</th>\n",
       "      <th>Argo Corn Starch</th>\n",
       "      <th>Asian chili sauce</th>\n",
       "      <th>...</th>\n",
       "      <th>yellowtail</th>\n",
       "      <th>yoghurt</th>\n",
       "      <th>yolk</th>\n",
       "      <th>young coconut meat</th>\n",
       "      <th>yu choy</th>\n",
       "      <th>yukon gold potatoes</th>\n",
       "      <th>yuzu</th>\n",
       "      <th>yuzu juice</th>\n",
       "      <th>zest</th>\n",
       "      <th>zucchini</th>\n",
       "    </tr>\n",
       "  </thead>\n",
       "  <tbody>\n",
       "    <tr>\n",
       "      <th>0</th>\n",
       "      <td>0</td>\n",
       "      <td>0</td>\n",
       "      <td>0</td>\n",
       "      <td>0</td>\n",
       "      <td>0</td>\n",
       "      <td>0</td>\n",
       "      <td>0</td>\n",
       "      <td>0</td>\n",
       "      <td>0</td>\n",
       "      <td>0</td>\n",
       "      <td>...</td>\n",
       "      <td>0</td>\n",
       "      <td>0</td>\n",
       "      <td>0</td>\n",
       "      <td>0</td>\n",
       "      <td>0</td>\n",
       "      <td>0</td>\n",
       "      <td>0</td>\n",
       "      <td>0</td>\n",
       "      <td>0</td>\n",
       "      <td>0</td>\n",
       "    </tr>\n",
       "    <tr>\n",
       "      <th>1</th>\n",
       "      <td>0</td>\n",
       "      <td>0</td>\n",
       "      <td>0</td>\n",
       "      <td>0</td>\n",
       "      <td>0</td>\n",
       "      <td>0</td>\n",
       "      <td>0</td>\n",
       "      <td>0</td>\n",
       "      <td>0</td>\n",
       "      <td>0</td>\n",
       "      <td>...</td>\n",
       "      <td>0</td>\n",
       "      <td>0</td>\n",
       "      <td>0</td>\n",
       "      <td>0</td>\n",
       "      <td>0</td>\n",
       "      <td>0</td>\n",
       "      <td>0</td>\n",
       "      <td>0</td>\n",
       "      <td>0</td>\n",
       "      <td>0</td>\n",
       "    </tr>\n",
       "    <tr>\n",
       "      <th>2</th>\n",
       "      <td>0</td>\n",
       "      <td>0</td>\n",
       "      <td>0</td>\n",
       "      <td>0</td>\n",
       "      <td>0</td>\n",
       "      <td>0</td>\n",
       "      <td>0</td>\n",
       "      <td>0</td>\n",
       "      <td>0</td>\n",
       "      <td>0</td>\n",
       "      <td>...</td>\n",
       "      <td>0</td>\n",
       "      <td>0</td>\n",
       "      <td>0</td>\n",
       "      <td>0</td>\n",
       "      <td>0</td>\n",
       "      <td>0</td>\n",
       "      <td>0</td>\n",
       "      <td>0</td>\n",
       "      <td>0</td>\n",
       "      <td>0</td>\n",
       "    </tr>\n",
       "    <tr>\n",
       "      <th>3</th>\n",
       "      <td>0</td>\n",
       "      <td>0</td>\n",
       "      <td>0</td>\n",
       "      <td>0</td>\n",
       "      <td>0</td>\n",
       "      <td>0</td>\n",
       "      <td>0</td>\n",
       "      <td>0</td>\n",
       "      <td>0</td>\n",
       "      <td>0</td>\n",
       "      <td>...</td>\n",
       "      <td>0</td>\n",
       "      <td>0</td>\n",
       "      <td>0</td>\n",
       "      <td>0</td>\n",
       "      <td>0</td>\n",
       "      <td>0</td>\n",
       "      <td>0</td>\n",
       "      <td>0</td>\n",
       "      <td>0</td>\n",
       "      <td>0</td>\n",
       "    </tr>\n",
       "    <tr>\n",
       "      <th>4</th>\n",
       "      <td>0</td>\n",
       "      <td>0</td>\n",
       "      <td>0</td>\n",
       "      <td>0</td>\n",
       "      <td>0</td>\n",
       "      <td>0</td>\n",
       "      <td>0</td>\n",
       "      <td>0</td>\n",
       "      <td>0</td>\n",
       "      <td>0</td>\n",
       "      <td>...</td>\n",
       "      <td>0</td>\n",
       "      <td>0</td>\n",
       "      <td>0</td>\n",
       "      <td>0</td>\n",
       "      <td>0</td>\n",
       "      <td>0</td>\n",
       "      <td>0</td>\n",
       "      <td>0</td>\n",
       "      <td>0</td>\n",
       "      <td>0</td>\n",
       "    </tr>\n",
       "  </tbody>\n",
       "</table>\n",
       "<p>5 rows × 2935 columns</p>\n",
       "</div>"
      ],
      "text/plain": [
       "   (    oz.) tomato sauce  1% low-fat milk  2% reduced-fat milk  \\\n",
       "0                       0                0                    0   \n",
       "1                       0                0                    0   \n",
       "2                       0                0                    0   \n",
       "3                       0                0                    0   \n",
       "4                       0                0                    0   \n",
       "\n",
       "   33% less sodium smoked fully cooked ham  A Taste of Thai Rice Noodles  \\\n",
       "0                                        0                             0   \n",
       "1                                        0                             0   \n",
       "2                                        0                             0   \n",
       "3                                        0                             0   \n",
       "4                                        0                             0   \n",
       "\n",
       "   Alaskan king crab legs  Anaheim chile  Angostura bitters  Argo Corn Starch  \\\n",
       "0                       0              0                  0                 0   \n",
       "1                       0              0                  0                 0   \n",
       "2                       0              0                  0                 0   \n",
       "3                       0              0                  0                 0   \n",
       "4                       0              0                  0                 0   \n",
       "\n",
       "   Asian chili sauce    ...     yellowtail  yoghurt  yolk  young coconut meat  \\\n",
       "0                  0    ...              0        0     0                   0   \n",
       "1                  0    ...              0        0     0                   0   \n",
       "2                  0    ...              0        0     0                   0   \n",
       "3                  0    ...              0        0     0                   0   \n",
       "4                  0    ...              0        0     0                   0   \n",
       "\n",
       "   yu choy  yukon gold potatoes  yuzu  yuzu juice  zest  zucchini  \n",
       "0        0                    0     0           0     0         0  \n",
       "1        0                    0     0           0     0         0  \n",
       "2        0                    0     0           0     0         0  \n",
       "3        0                    0     0           0     0         0  \n",
       "4        0                    0     0           0     0         0  \n",
       "\n",
       "[5 rows x 2935 columns]"
      ]
     },
     "execution_count": 243,
     "metadata": {},
     "output_type": "execute_result"
    }
   ],
   "source": [
    "#X now contains columns for each of the ~3,000 ingredients. Note that many of the ingredients have seemingly\n",
    "#superfluous descriptors and varied spellings.\n",
    "\n",
    "X.head()"
   ]
  },
  {
   "cell_type": "code",
   "execution_count": 244,
   "metadata": {},
   "outputs": [],
   "source": [
    "#2 Train/Test Split - split into training and test sets\n",
    "\n",
    "X_train, X_test, y_train, y_test = train_test_split(X, y, random_state=31)"
   ]
  },
  {
   "cell_type": "code",
   "execution_count": 245,
   "metadata": {},
   "outputs": [
    {
     "data": {
      "text/plain": [
       "0.3746571585298958"
      ]
     },
     "execution_count": 245,
     "metadata": {},
     "output_type": "execute_result"
    }
   ],
   "source": [
    "#Calculate null accuracy - use Dummy Classifier, predict all recipes are Chinese - 37%\n",
    "from sklearn.dummy import DummyClassifier\n",
    "dummy = DummyClassifier(strategy='most_frequent', random_state=31)\n",
    "dummy.fit(X_train, y_train)\n",
    "dummy.score(X_test, y_test)"
   ]
  },
  {
   "cell_type": "code",
   "execution_count": 246,
   "metadata": {},
   "outputs": [
    {
     "data": {
      "text/plain": [
       "RandomForestClassifier(bootstrap=True, class_weight=None, criterion='gini',\n",
       "            max_depth=None, max_features=None, max_leaf_nodes=None,\n",
       "            min_impurity_decrease=0.0, min_impurity_split=None,\n",
       "            min_samples_leaf=1, min_samples_split=2,\n",
       "            min_weight_fraction_leaf=0.0, n_estimators=150, n_jobs=None,\n",
       "            oob_score=True, random_state=31, verbose=0, warm_start=False)"
      ]
     },
     "execution_count": 246,
     "metadata": {},
     "output_type": "execute_result"
    }
   ],
   "source": [
    "#3 - Instantiate and fit Random Forest Classifier\n",
    "rfclf = RandomForestClassifier(n_estimators=150, max_features=None, oob_score=True, random_state=31)\n",
    "rfclf.fit(X_train, y_train)"
   ]
  },
  {
   "cell_type": "code",
   "execution_count": 247,
   "metadata": {
    "scrolled": true
   },
   "outputs": [
    {
     "data": {
      "text/html": [
       "<div>\n",
       "<style scoped>\n",
       "    .dataframe tbody tr th:only-of-type {\n",
       "        vertical-align: middle;\n",
       "    }\n",
       "\n",
       "    .dataframe tbody tr th {\n",
       "        vertical-align: top;\n",
       "    }\n",
       "\n",
       "    .dataframe thead th {\n",
       "        text-align: right;\n",
       "    }\n",
       "</style>\n",
       "<table border=\"1\" class=\"dataframe\">\n",
       "  <thead>\n",
       "    <tr style=\"text-align: right;\">\n",
       "      <th></th>\n",
       "      <th>feature</th>\n",
       "      <th>importance</th>\n",
       "    </tr>\n",
       "  </thead>\n",
       "  <tbody>\n",
       "    <tr>\n",
       "      <th>1077</th>\n",
       "      <td>fish sauce</td>\n",
       "      <td>0.077331</td>\n",
       "    </tr>\n",
       "    <tr>\n",
       "      <th>793</th>\n",
       "      <td>corn starch</td>\n",
       "      <td>0.047322</td>\n",
       "    </tr>\n",
       "    <tr>\n",
       "      <th>1774</th>\n",
       "      <td>mirin</td>\n",
       "      <td>0.047264</td>\n",
       "    </tr>\n",
       "    <tr>\n",
       "      <th>732</th>\n",
       "      <td>coconut milk</td>\n",
       "      <td>0.035266</td>\n",
       "    </tr>\n",
       "    <tr>\n",
       "      <th>36</th>\n",
       "      <td>Gochujang base</td>\n",
       "      <td>0.023356</td>\n",
       "    </tr>\n",
       "    <tr>\n",
       "      <th>2345</th>\n",
       "      <td>sesame oil</td>\n",
       "      <td>0.017765</td>\n",
       "    </tr>\n",
       "    <tr>\n",
       "      <th>2262</th>\n",
       "      <td>sake</td>\n",
       "      <td>0.013448</td>\n",
       "    </tr>\n",
       "    <tr>\n",
       "      <th>632</th>\n",
       "      <td>chinese five-spice powder</td>\n",
       "      <td>0.013192</td>\n",
       "    </tr>\n",
       "    <tr>\n",
       "      <th>1138</th>\n",
       "      <td>fresh lime juice</td>\n",
       "      <td>0.011803</td>\n",
       "    </tr>\n",
       "    <tr>\n",
       "      <th>1517</th>\n",
       "      <td>kimchi</td>\n",
       "      <td>0.011466</td>\n",
       "    </tr>\n",
       "    <tr>\n",
       "      <th>2349</th>\n",
       "      <td>sesame seeds</td>\n",
       "      <td>0.009646</td>\n",
       "    </tr>\n",
       "    <tr>\n",
       "      <th>2753</th>\n",
       "      <td>unsweetened coconut milk</td>\n",
       "      <td>0.009636</td>\n",
       "    </tr>\n",
       "    <tr>\n",
       "      <th>1610</th>\n",
       "      <td>lime juice</td>\n",
       "      <td>0.009143</td>\n",
       "    </tr>\n",
       "    <tr>\n",
       "      <th>1609</th>\n",
       "      <td>lime</td>\n",
       "      <td>0.008995</td>\n",
       "    </tr>\n",
       "    <tr>\n",
       "      <th>1586</th>\n",
       "      <td>lemongrass</td>\n",
       "      <td>0.007446</td>\n",
       "    </tr>\n",
       "    <tr>\n",
       "      <th>98</th>\n",
       "      <td>Thai fish sauce</td>\n",
       "      <td>0.007421</td>\n",
       "    </tr>\n",
       "    <tr>\n",
       "      <th>1840</th>\n",
       "      <td>nori</td>\n",
       "      <td>0.007340</td>\n",
       "    </tr>\n",
       "    <tr>\n",
       "      <th>2557</th>\n",
       "      <td>sugar</td>\n",
       "      <td>0.007244</td>\n",
       "    </tr>\n",
       "    <tr>\n",
       "      <th>1341</th>\n",
       "      <td>ground black pepper</td>\n",
       "      <td>0.007061</td>\n",
       "    </tr>\n",
       "    <tr>\n",
       "      <th>2483</th>\n",
       "      <td>soy sauce</td>\n",
       "      <td>0.006948</td>\n",
       "    </tr>\n",
       "    <tr>\n",
       "      <th>1417</th>\n",
       "      <td>hoisin sauce</td>\n",
       "      <td>0.006890</td>\n",
       "    </tr>\n",
       "    <tr>\n",
       "      <th>2205</th>\n",
       "      <td>rice vinegar</td>\n",
       "      <td>0.006684</td>\n",
       "    </tr>\n",
       "    <tr>\n",
       "      <th>2806</th>\n",
       "      <td>water</td>\n",
       "      <td>0.006595</td>\n",
       "    </tr>\n",
       "    <tr>\n",
       "      <th>2678</th>\n",
       "      <td>toasted sesame seeds</td>\n",
       "      <td>0.005945</td>\n",
       "    </tr>\n",
       "    <tr>\n",
       "      <th>502</th>\n",
       "      <td>carrots</td>\n",
       "      <td>0.005901</td>\n",
       "    </tr>\n",
       "    <tr>\n",
       "      <th>1217</th>\n",
       "      <td>garlic</td>\n",
       "      <td>0.005837</td>\n",
       "    </tr>\n",
       "    <tr>\n",
       "      <th>182</th>\n",
       "      <td>asian fish sauce</td>\n",
       "      <td>0.005746</td>\n",
       "    </tr>\n",
       "    <tr>\n",
       "      <th>1212</th>\n",
       "      <td>garam masala</td>\n",
       "      <td>0.005640</td>\n",
       "    </tr>\n",
       "    <tr>\n",
       "      <th>1323</th>\n",
       "      <td>green onions</td>\n",
       "      <td>0.005557</td>\n",
       "    </tr>\n",
       "    <tr>\n",
       "      <th>1817</th>\n",
       "      <td>napa cabbage</td>\n",
       "      <td>0.005378</td>\n",
       "    </tr>\n",
       "    <tr>\n",
       "      <th>...</th>\n",
       "      <td>...</td>\n",
       "      <td>...</td>\n",
       "    </tr>\n",
       "    <tr>\n",
       "      <th>722</th>\n",
       "      <td>coco</td>\n",
       "      <td>0.000000</td>\n",
       "    </tr>\n",
       "    <tr>\n",
       "      <th>721</th>\n",
       "      <td>cocktail cherries</td>\n",
       "      <td>0.000000</td>\n",
       "    </tr>\n",
       "    <tr>\n",
       "      <th>720</th>\n",
       "      <td>cockles</td>\n",
       "      <td>0.000000</td>\n",
       "    </tr>\n",
       "    <tr>\n",
       "      <th>712</th>\n",
       "      <td>cloud ear fungus</td>\n",
       "      <td>0.000000</td>\n",
       "    </tr>\n",
       "    <tr>\n",
       "      <th>709</th>\n",
       "      <td>clams, well scrub</td>\n",
       "      <td>0.000000</td>\n",
       "    </tr>\n",
       "    <tr>\n",
       "      <th>2063</th>\n",
       "      <td>port</td>\n",
       "      <td>0.000000</td>\n",
       "    </tr>\n",
       "    <tr>\n",
       "      <th>2064</th>\n",
       "      <td>port wine</td>\n",
       "      <td>0.000000</td>\n",
       "    </tr>\n",
       "    <tr>\n",
       "      <th>705</th>\n",
       "      <td>citric acid powder</td>\n",
       "      <td>0.000000</td>\n",
       "    </tr>\n",
       "    <tr>\n",
       "      <th>2066</th>\n",
       "      <td>porterhouse steaks</td>\n",
       "      <td>0.000000</td>\n",
       "    </tr>\n",
       "    <tr>\n",
       "      <th>703</th>\n",
       "      <td>cinnamon candy canes</td>\n",
       "      <td>0.000000</td>\n",
       "    </tr>\n",
       "    <tr>\n",
       "      <th>695</th>\n",
       "      <td>ciabatta loaf</td>\n",
       "      <td>0.000000</td>\n",
       "    </tr>\n",
       "    <tr>\n",
       "      <th>2070</th>\n",
       "      <td>potato starch flour</td>\n",
       "      <td>0.000000</td>\n",
       "    </tr>\n",
       "    <tr>\n",
       "      <th>691</th>\n",
       "      <td>chunk light tuna in water</td>\n",
       "      <td>0.000000</td>\n",
       "    </tr>\n",
       "    <tr>\n",
       "      <th>2072</th>\n",
       "      <td>potsticker wrappers</td>\n",
       "      <td>0.000000</td>\n",
       "    </tr>\n",
       "    <tr>\n",
       "      <th>2075</th>\n",
       "      <td>powdered gelatin</td>\n",
       "      <td>0.000000</td>\n",
       "    </tr>\n",
       "    <tr>\n",
       "      <th>684</th>\n",
       "      <td>chrysanthemum</td>\n",
       "      <td>0.000000</td>\n",
       "    </tr>\n",
       "    <tr>\n",
       "      <th>2079</th>\n",
       "      <td>powdered vanilla pudding mix</td>\n",
       "      <td>0.000000</td>\n",
       "    </tr>\n",
       "    <tr>\n",
       "      <th>1194</th>\n",
       "      <td>frozen spinach</td>\n",
       "      <td>0.000000</td>\n",
       "    </tr>\n",
       "    <tr>\n",
       "      <th>2083</th>\n",
       "      <td>prime rib</td>\n",
       "      <td>0.000000</td>\n",
       "    </tr>\n",
       "    <tr>\n",
       "      <th>679</th>\n",
       "      <td>chopped pecans</td>\n",
       "      <td>0.000000</td>\n",
       "    </tr>\n",
       "    <tr>\n",
       "      <th>2085</th>\n",
       "      <td>promise buttery spread</td>\n",
       "      <td>0.000000</td>\n",
       "    </tr>\n",
       "    <tr>\n",
       "      <th>677</th>\n",
       "      <td>chopped nuts</td>\n",
       "      <td>0.000000</td>\n",
       "    </tr>\n",
       "    <tr>\n",
       "      <th>2088</th>\n",
       "      <td>puff pastry sheets</td>\n",
       "      <td>0.000000</td>\n",
       "    </tr>\n",
       "    <tr>\n",
       "      <th>2089</th>\n",
       "      <td>pummelo</td>\n",
       "      <td>0.000000</td>\n",
       "    </tr>\n",
       "    <tr>\n",
       "      <th>2092</th>\n",
       "      <td>pure maple syrup</td>\n",
       "      <td>0.000000</td>\n",
       "    </tr>\n",
       "    <tr>\n",
       "      <th>2093</th>\n",
       "      <td>pure vanilla extract</td>\n",
       "      <td>0.000000</td>\n",
       "    </tr>\n",
       "    <tr>\n",
       "      <th>675</th>\n",
       "      <td>chopped ham</td>\n",
       "      <td>0.000000</td>\n",
       "    </tr>\n",
       "    <tr>\n",
       "      <th>2096</th>\n",
       "      <td>quail eggs</td>\n",
       "      <td>0.000000</td>\n",
       "    </tr>\n",
       "    <tr>\n",
       "      <th>2097</th>\n",
       "      <td>quick cooking brown rice</td>\n",
       "      <td>0.000000</td>\n",
       "    </tr>\n",
       "    <tr>\n",
       "      <th>2126</th>\n",
       "      <td>razor clams</td>\n",
       "      <td>0.000000</td>\n",
       "    </tr>\n",
       "  </tbody>\n",
       "</table>\n",
       "<p>2935 rows × 2 columns</p>\n",
       "</div>"
      ],
      "text/plain": [
       "                           feature  importance\n",
       "1077                    fish sauce    0.077331\n",
       "793                    corn starch    0.047322\n",
       "1774                         mirin    0.047264\n",
       "732                   coconut milk    0.035266\n",
       "36                  Gochujang base    0.023356\n",
       "2345                    sesame oil    0.017765\n",
       "2262                          sake    0.013448\n",
       "632      chinese five-spice powder    0.013192\n",
       "1138              fresh lime juice    0.011803\n",
       "1517                        kimchi    0.011466\n",
       "2349                  sesame seeds    0.009646\n",
       "2753      unsweetened coconut milk    0.009636\n",
       "1610                    lime juice    0.009143\n",
       "1609                          lime    0.008995\n",
       "1586                    lemongrass    0.007446\n",
       "98                 Thai fish sauce    0.007421\n",
       "1840                          nori    0.007340\n",
       "2557                         sugar    0.007244\n",
       "1341           ground black pepper    0.007061\n",
       "2483                     soy sauce    0.006948\n",
       "1417                  hoisin sauce    0.006890\n",
       "2205                  rice vinegar    0.006684\n",
       "2806                         water    0.006595\n",
       "2678          toasted sesame seeds    0.005945\n",
       "502                        carrots    0.005901\n",
       "1217                        garlic    0.005837\n",
       "182               asian fish sauce    0.005746\n",
       "1212                  garam masala    0.005640\n",
       "1323                  green onions    0.005557\n",
       "1817                  napa cabbage    0.005378\n",
       "...                            ...         ...\n",
       "722                           coco    0.000000\n",
       "721              cocktail cherries    0.000000\n",
       "720                        cockles    0.000000\n",
       "712               cloud ear fungus    0.000000\n",
       "709              clams, well scrub    0.000000\n",
       "2063                          port    0.000000\n",
       "2064                     port wine    0.000000\n",
       "705             citric acid powder    0.000000\n",
       "2066            porterhouse steaks    0.000000\n",
       "703           cinnamon candy canes    0.000000\n",
       "695                  ciabatta loaf    0.000000\n",
       "2070           potato starch flour    0.000000\n",
       "691      chunk light tuna in water    0.000000\n",
       "2072           potsticker wrappers    0.000000\n",
       "2075              powdered gelatin    0.000000\n",
       "684                  chrysanthemum    0.000000\n",
       "2079  powdered vanilla pudding mix    0.000000\n",
       "1194                frozen spinach    0.000000\n",
       "2083                     prime rib    0.000000\n",
       "679                 chopped pecans    0.000000\n",
       "2085        promise buttery spread    0.000000\n",
       "677                   chopped nuts    0.000000\n",
       "2088            puff pastry sheets    0.000000\n",
       "2089                       pummelo    0.000000\n",
       "2092              pure maple syrup    0.000000\n",
       "2093          pure vanilla extract    0.000000\n",
       "675                    chopped ham    0.000000\n",
       "2096                    quail eggs    0.000000\n",
       "2097      quick cooking brown rice    0.000000\n",
       "2126                   razor clams    0.000000\n",
       "\n",
       "[2935 rows x 2 columns]"
      ]
     },
     "execution_count": 247,
     "metadata": {},
     "output_type": "execute_result"
    }
   ],
   "source": [
    "# Compute feature importances.\n",
    "pd.DataFrame({'feature':X_train.columns, 'importance':rfclf.feature_importances_})\\\n",
    "    .sort_values('importance', ascending=False)"
   ]
  },
  {
   "cell_type": "code",
   "execution_count": 248,
   "metadata": {},
   "outputs": [
    {
     "data": {
      "text/plain": [
       "array(['chinese', 'chinese', 'chinese', ..., 'japanese', 'thai',\n",
       "       'japanese'], dtype=object)"
      ]
     },
     "execution_count": 248,
     "metadata": {},
     "output_type": "execute_result"
    }
   ],
   "source": [
    "#4 - Assess model. Test w test set\n",
    "y_pred = rfclf.predict(X_test)\n",
    "y_pred"
   ]
  },
  {
   "cell_type": "code",
   "execution_count": 249,
   "metadata": {},
   "outputs": [
    {
     "name": "stdout",
     "output_type": "stream",
     "text": [
      "0.7350521119034559\n"
     ]
    }
   ],
   "source": [
    "#Assess accuracy\n",
    "print((metrics.accuracy_score(y_test, y_pred)))"
   ]
  },
  {
   "cell_type": "code",
   "execution_count": 250,
   "metadata": {},
   "outputs": [
    {
     "name": "stdout",
     "output_type": "stream",
     "text": [
      "              precision    recall  f1-score   support\n",
      "\n",
      "     chinese       0.74      0.85      0.79       683\n",
      "    japanese       0.76      0.73      0.75       376\n",
      "      korean       0.76      0.62      0.69       199\n",
      "        thai       0.69      0.75      0.72       353\n",
      "  vietnamese       0.72      0.45      0.55       212\n",
      "\n",
      "   micro avg       0.74      0.74      0.74      1823\n",
      "   macro avg       0.73      0.68      0.70      1823\n",
      "weighted avg       0.74      0.74      0.73      1823\n",
      "\n"
     ]
    }
   ],
   "source": [
    "#Look at classification report\n",
    "\n",
    "print(classification_report(y_test, y_pred))\n",
    "#precision = % true positive out of all predicted positives - 72% of Vietnamese predictions were true\n",
    "#recall = % true positive out of all actual positives - 45% of Vietnamese recipes were predicted to be Vietnamese"
   ]
  },
  {
   "cell_type": "code",
   "execution_count": 251,
   "metadata": {},
   "outputs": [],
   "source": [
    "#Look at confusion matrix\n",
    "array = confusion_matrix(y_test, y_pred)\n",
    "df_cm = pd.DataFrame(array, index = [i for i in ['chinese', 'thai', 'japanese', 'korean', 'vietnamese']],\n",
    "                  columns = [i for i in ['chinese', 'thai', 'japanese', 'korean', 'vietnamese']])"
   ]
  },
  {
   "cell_type": "code",
   "execution_count": 252,
   "metadata": {},
   "outputs": [
    {
     "data": {
      "text/plain": [
       "<matplotlib.axes._subplots.AxesSubplot at 0x1a61a70e80>"
      ]
     },
     "execution_count": 252,
     "metadata": {},
     "output_type": "execute_result"
    },
    {
     "data": {
      "image/png": "[encoded data removed]",
      "text/plain": [
       "<Figure size 432x288 with 2 Axes>"
      ]
     },
     "metadata": {},
     "output_type": "display_data"
    }
   ],
   "source": [
    "#Plot confusion matrix\n",
    "\n",
    "sns.heatmap(df_cm, annot=True, fmt='g', cmap='Blues')\n",
    "#columns = class predicted by model\n",
    "#rows = actual classes"
   ]
  },
  {
   "cell_type": "code",
   "execution_count": null,
   "metadata": {},
   "outputs": [],
   "source": [
    "#The Random Forest model performs better than the classification decision tree- precision for all cuisines has\n",
    "#improved, with the most marked improvements with Korean and Vietnamese. Recall has also grown greatly for all\n",
    "#cuisines excluding Vietnamese, which still sees 45% recall due in large part to Vietnamese recipes commonly being\n",
    "#predicted to be Korean by the model."
   ]
  },
  {
   "cell_type": "markdown",
   "metadata": {},
   "source": [
    "## Method C - Naive Bayes Model"
   ]
  },
  {
   "cell_type": "code",
   "execution_count": 218,
   "metadata": {},
   "outputs": [
    {
     "data": {
      "text/html": [
       "<div>\n",
       "<style scoped>\n",
       "    .dataframe tbody tr th:only-of-type {\n",
       "        vertical-align: middle;\n",
       "    }\n",
       "\n",
       "    .dataframe tbody tr th {\n",
       "        vertical-align: top;\n",
       "    }\n",
       "\n",
       "    .dataframe thead th {\n",
       "        text-align: right;\n",
       "    }\n",
       "</style>\n",
       "<table border=\"1\" class=\"dataframe\">\n",
       "  <thead>\n",
       "    <tr style=\"text-align: right;\">\n",
       "      <th></th>\n",
       "      <th>cuisine</th>\n",
       "      <th>id</th>\n",
       "      <th>ingredients</th>\n",
       "    </tr>\n",
       "  </thead>\n",
       "  <tbody>\n",
       "    <tr>\n",
       "      <th>0</th>\n",
       "      <td>greek</td>\n",
       "      <td>10259</td>\n",
       "      <td>[romaine lettuce, black olives, grape tomatoes...</td>\n",
       "    </tr>\n",
       "    <tr>\n",
       "      <th>1</th>\n",
       "      <td>southern_us</td>\n",
       "      <td>25693</td>\n",
       "      <td>[plain flour, ground pepper, salt, tomatoes, g...</td>\n",
       "    </tr>\n",
       "    <tr>\n",
       "      <th>2</th>\n",
       "      <td>filipino</td>\n",
       "      <td>20130</td>\n",
       "      <td>[eggs, pepper, salt, mayonaise, cooking oil, g...</td>\n",
       "    </tr>\n",
       "    <tr>\n",
       "      <th>3</th>\n",
       "      <td>indian</td>\n",
       "      <td>22213</td>\n",
       "      <td>[water, vegetable oil, wheat, salt]</td>\n",
       "    </tr>\n",
       "    <tr>\n",
       "      <th>4</th>\n",
       "      <td>indian</td>\n",
       "      <td>13162</td>\n",
       "      <td>[black pepper, shallots, cornflour, cayenne pe...</td>\n",
       "    </tr>\n",
       "  </tbody>\n",
       "</table>\n",
       "</div>"
      ],
      "text/plain": [
       "       cuisine     id                                        ingredients\n",
       "0        greek  10259  [romaine lettuce, black olives, grape tomatoes...\n",
       "1  southern_us  25693  [plain flour, ground pepper, salt, tomatoes, g...\n",
       "2     filipino  20130  [eggs, pepper, salt, mayonaise, cooking oil, g...\n",
       "3       indian  22213                [water, vegetable oil, wheat, salt]\n",
       "4       indian  13162  [black pepper, shallots, cornflour, cayenne pe..."
      ]
     },
     "execution_count": 218,
     "metadata": {},
     "output_type": "execute_result"
    }
   ],
   "source": [
    "#1 - Load in Kaggle training dataset\n",
    "with open('train.json') as f:\n",
    "    dict_train = json.load(f)\n",
    "\n",
    "recipe = pd.DataFrame(dict_train)\n",
    "recipe.head()"
   ]
  },
  {
   "cell_type": "code",
   "execution_count": 219,
   "metadata": {},
   "outputs": [
    {
     "data": {
      "text/plain": [
       "chinese       2673\n",
       "thai          1539\n",
       "japanese      1423\n",
       "korean         830\n",
       "vietnamese     825\n",
       "Name: cuisine, dtype: int64"
      ]
     },
     "execution_count": 219,
     "metadata": {},
     "output_type": "execute_result"
    }
   ],
   "source": [
    "#Filter dataset down to only the top 5 East Asian & Southeast Asian cuisines\n",
    "asian_cuisines = ['chinese', 'thai', 'japanese', 'korean', 'vietnamese']\n",
    "recipe = recipe[recipe.cuisine.isin(asian_cuisines)]\n",
    "recipe.reset_index(drop = True, inplace = True)\n",
    "recipe.cuisine.value_counts()"
   ]
  },
  {
   "cell_type": "code",
   "execution_count": 220,
   "metadata": {},
   "outputs": [],
   "source": [
    "#Split dataset into X and y, with X containing dummy variables for each ingredient and y containing cuisine categories\n",
    "\n",
    "X = pd.get_dummies(recipe['ingredients'].apply(pd.Series).stack()).sum(level=0)\n",
    "y = recipe['cuisine']"
   ]
  },
  {
   "cell_type": "code",
   "execution_count": 221,
   "metadata": {},
   "outputs": [],
   "source": [
    "#2 Train/Test Split - split into training and test sets\n",
    "\n",
    "X_train, X_test, y_train, y_test = train_test_split(X, y, random_state=31)"
   ]
  },
  {
   "cell_type": "code",
   "execution_count": 222,
   "metadata": {},
   "outputs": [
    {
     "name": "stdout",
     "output_type": "stream",
     "text": [
      "0.8014262205156336\n"
     ]
    }
   ],
   "source": [
    "# Instantiate & fit Naive Bayes model\n",
    "nb = MultinomialNB()\n",
    "nb.fit(X_train, y_train)\n",
    "y_pred_class = nb.predict(X_test)\n",
    "\n",
    "# Calculate accuracy.\n",
    "print((metrics.accuracy_score(y_test, y_pred_class)))"
   ]
  },
  {
   "cell_type": "code",
   "execution_count": 223,
   "metadata": {},
   "outputs": [
    {
     "name": "stdout",
     "output_type": "stream",
     "text": [
      "              precision    recall  f1-score   support\n",
      "\n",
      "     chinese       0.79      0.92      0.85       683\n",
      "    japanese       0.88      0.80      0.84       376\n",
      "      korean       0.84      0.69      0.76       199\n",
      "        thai       0.74      0.82      0.78       353\n",
      "  vietnamese       0.75      0.52      0.61       212\n",
      "\n",
      "   micro avg       0.80      0.80      0.80      1823\n",
      "   macro avg       0.80      0.75      0.77      1823\n",
      "weighted avg       0.80      0.80      0.80      1823\n",
      "\n"
     ]
    }
   ],
   "source": [
    "print(classification_report(y_test, y_pred_class))"
   ]
  },
  {
   "cell_type": "code",
   "execution_count": 224,
   "metadata": {},
   "outputs": [
    {
     "data": {
      "text/plain": [
       "<matplotlib.axes._subplots.AxesSubplot at 0x1a62f96eb8>"
      ]
     },
     "execution_count": 224,
     "metadata": {},
     "output_type": "execute_result"
    },
    {
     "data": {
      "image/png": "[encoded data removed]",
      "text/plain": [
       "<Figure size 432x288 with 2 Axes>"
      ]
     },
     "metadata": {},
     "output_type": "display_data"
    }
   ],
   "source": [
    "#Look at confusion matrix\n",
    "array = confusion_matrix(y_test, y_pred_class)\n",
    "df_cm = pd.DataFrame(array, index = [i for i in ['chinese', 'thai', 'japanese', 'korean', 'vietnamese']],\n",
    "                  columns = [i for i in ['chinese', 'thai', 'japanese', 'korean', 'vietnamese']])\n",
    "sns.heatmap(df_cm, annot=True, fmt='g', cmap='Blues')\n",
    "#columns = class predicted by model\n",
    "#rows = actual classes"
   ]
  },
  {
   "cell_type": "markdown",
   "metadata": {},
   "source": [
    "# Method D - Logistic Regression Model"
   ]
  },
  {
   "cell_type": "code",
   "execution_count": 447,
   "metadata": {},
   "outputs": [
    {
     "data": {
      "text/html": [
       "<div>\n",
       "<style scoped>\n",
       "    .dataframe tbody tr th:only-of-type {\n",
       "        vertical-align: middle;\n",
       "    }\n",
       "\n",
       "    .dataframe tbody tr th {\n",
       "        vertical-align: top;\n",
       "    }\n",
       "\n",
       "    .dataframe thead th {\n",
       "        text-align: right;\n",
       "    }\n",
       "</style>\n",
       "<table border=\"1\" class=\"dataframe\">\n",
       "  <thead>\n",
       "    <tr style=\"text-align: right;\">\n",
       "      <th></th>\n",
       "      <th>cuisine</th>\n",
       "      <th>id</th>\n",
       "      <th>ingredients</th>\n",
       "    </tr>\n",
       "  </thead>\n",
       "  <tbody>\n",
       "    <tr>\n",
       "      <th>0</th>\n",
       "      <td>greek</td>\n",
       "      <td>10259</td>\n",
       "      <td>[romaine lettuce, black olives, grape tomatoes...</td>\n",
       "    </tr>\n",
       "    <tr>\n",
       "      <th>1</th>\n",
       "      <td>southern_us</td>\n",
       "      <td>25693</td>\n",
       "      <td>[plain flour, ground pepper, salt, tomatoes, g...</td>\n",
       "    </tr>\n",
       "    <tr>\n",
       "      <th>2</th>\n",
       "      <td>filipino</td>\n",
       "      <td>20130</td>\n",
       "      <td>[eggs, pepper, salt, mayonaise, cooking oil, g...</td>\n",
       "    </tr>\n",
       "    <tr>\n",
       "      <th>3</th>\n",
       "      <td>indian</td>\n",
       "      <td>22213</td>\n",
       "      <td>[water, vegetable oil, wheat, salt]</td>\n",
       "    </tr>\n",
       "    <tr>\n",
       "      <th>4</th>\n",
       "      <td>indian</td>\n",
       "      <td>13162</td>\n",
       "      <td>[black pepper, shallots, cornflour, cayenne pe...</td>\n",
       "    </tr>\n",
       "  </tbody>\n",
       "</table>\n",
       "</div>"
      ],
      "text/plain": [
       "       cuisine     id                                        ingredients\n",
       "0        greek  10259  [romaine lettuce, black olives, grape tomatoes...\n",
       "1  southern_us  25693  [plain flour, ground pepper, salt, tomatoes, g...\n",
       "2     filipino  20130  [eggs, pepper, salt, mayonaise, cooking oil, g...\n",
       "3       indian  22213                [water, vegetable oil, wheat, salt]\n",
       "4       indian  13162  [black pepper, shallots, cornflour, cayenne pe..."
      ]
     },
     "execution_count": 447,
     "metadata": {},
     "output_type": "execute_result"
    }
   ],
   "source": [
    "#1 - Load in Kaggle training dataset\n",
    "with open('train.json') as f:\n",
    "    dict_train = json.load(f)\n",
    "\n",
    "recipe = pd.DataFrame(dict_train)\n",
    "recipe.head()"
   ]
  },
  {
   "cell_type": "code",
   "execution_count": 448,
   "metadata": {},
   "outputs": [
    {
     "data": {
      "text/plain": [
       "chinese       2673\n",
       "thai          1539\n",
       "japanese      1423\n",
       "korean         830\n",
       "vietnamese     825\n",
       "Name: cuisine, dtype: int64"
      ]
     },
     "execution_count": 448,
     "metadata": {},
     "output_type": "execute_result"
    }
   ],
   "source": [
    "#Filter dataset down to only the top 5 East Asian & Southeast Asian cuisines\n",
    "asian_cuisines = ['chinese', 'thai', 'japanese', 'korean', 'vietnamese']\n",
    "recipe = recipe[recipe.cuisine.isin(asian_cuisines)]\n",
    "recipe.reset_index(drop = True, inplace = True)\n",
    "recipe.cuisine.value_counts()"
   ]
  },
  {
   "cell_type": "code",
   "execution_count": 449,
   "metadata": {},
   "outputs": [],
   "source": [
    "#Split dataset into X and y, with X containing dummy variables for each ingredient and y containing cuisine categories\n",
    "\n",
    "X = pd.get_dummies(recipe['ingredients'].apply(pd.Series).stack()).sum(level=0)\n",
    "y = recipe['cuisine']"
   ]
  },
  {
   "cell_type": "code",
   "execution_count": 450,
   "metadata": {},
   "outputs": [],
   "source": [
    "#2 Train/Test Split - split into training and test sets\n",
    "\n",
    "X_train, X_test, y_train, y_test = train_test_split(X, y, random_state=31)"
   ]
  },
  {
   "cell_type": "code",
   "execution_count": 451,
   "metadata": {},
   "outputs": [
    {
     "name": "stderr",
     "output_type": "stream",
     "text": [
      "/anaconda3/lib/python3.6/site-packages/sklearn/linear_model/logistic.py:433: FutureWarning: Default solver will be changed to 'lbfgs' in 0.22. Specify a solver to silence this warning.\n",
      "  FutureWarning)\n",
      "/anaconda3/lib/python3.6/site-packages/sklearn/linear_model/logistic.py:460: FutureWarning: Default multi_class will be changed to 'auto' in 0.22. Specify the multi_class option to silence this warning.\n",
      "  \"this warning.\", FutureWarning)\n"
     ]
    },
    {
     "name": "stdout",
     "output_type": "stream",
     "text": [
      "0.8080087767416346\n"
     ]
    }
   ],
   "source": [
    "# Instantiate & fit Logistic Regression model\n",
    "\n",
    "logreg = LogisticRegression()\n",
    "\n",
    "logreg.fit(X_train, y_train)\n",
    "y_pred_class = logreg.predict(X_test)\n",
    "\n",
    "# Calculate accuracy.\n",
    "print((metrics.accuracy_score(y_test, y_pred_class)))"
   ]
  },
  {
   "cell_type": "code",
   "execution_count": 452,
   "metadata": {},
   "outputs": [
    {
     "name": "stdout",
     "output_type": "stream",
     "text": [
      "              precision    recall  f1-score   support\n",
      "\n",
      "     chinese       0.82      0.90      0.86       683\n",
      "    japanese       0.85      0.83      0.84       376\n",
      "      korean       0.81      0.74      0.77       199\n",
      "        thai       0.76      0.81      0.79       353\n",
      "  vietnamese       0.77      0.55      0.64       212\n",
      "\n",
      "   micro avg       0.81      0.81      0.81      1823\n",
      "   macro avg       0.80      0.76      0.78      1823\n",
      "weighted avg       0.81      0.81      0.80      1823\n",
      "\n"
     ]
    }
   ],
   "source": [
    "print(classification_report(y_test, y_pred_class))"
   ]
  },
  {
   "cell_type": "code",
   "execution_count": 453,
   "metadata": {},
   "outputs": [
    {
     "data": {
      "text/plain": [
       "<matplotlib.axes._subplots.AxesSubplot at 0x1ab0291518>"
      ]
     },
     "execution_count": 453,
     "metadata": {},
     "output_type": "execute_result"
    },
    {
     "data": {
      "image/png": "[encoded data removed]",
      "text/plain": [
       "<Figure size 432x288 with 2 Axes>"
      ]
     },
     "metadata": {},
     "output_type": "display_data"
    }
   ],
   "source": [
    "#Look at confusion matrix\n",
    "array = confusion_matrix(y_test, y_pred_class)\n",
    "df_cm = pd.DataFrame(array, index = [i for i in ['chinese', 'thai', 'japanese', 'korean', 'vietnamese']],\n",
    "                  columns = [i for i in ['chinese', 'thai', 'japanese', 'korean', 'vietnamese']])\n",
    "sns.heatmap(df_cm, annot=True, fmt='g', cmap='Blues')\n",
    "#columns = class predicted by model\n",
    "#rows = actual classes"
   ]
  },
  {
   "cell_type": "code",
   "execution_count": 467,
   "metadata": {},
   "outputs": [
    {
     "data": {
      "text/plain": [
       "array([[6.73340400e-01, 2.75145374e-01, 2.83221854e-02, 1.02473101e-02,\n",
       "        1.29447303e-02],\n",
       "       [8.15528625e-01, 3.73436707e-02, 1.11666532e-01, 1.79366170e-02,\n",
       "        1.75245559e-02],\n",
       "       [7.45910456e-01, 6.71768690e-02, 5.53682787e-03, 1.69831548e-01,\n",
       "        1.15442989e-02],\n",
       "       ...,\n",
       "       [3.30536956e-01, 6.55013057e-01, 4.60573783e-03, 2.37336455e-03,\n",
       "        7.47088417e-03],\n",
       "       [1.76238479e-03, 7.85014086e-03, 5.63018990e-04, 8.75702861e-01,\n",
       "        1.14121594e-01],\n",
       "       [3.36643717e-01, 5.86010271e-01, 2.75685256e-02, 2.75550895e-02,\n",
       "        2.22223960e-02]])"
      ]
     },
     "execution_count": 467,
     "metadata": {},
     "output_type": "execute_result"
    }
   ],
   "source": [
    "probability = logreg.predict_proba(X_test)\n",
    "probability"
   ]
  },
  {
   "cell_type": "markdown",
   "metadata": {},
   "source": [
    "## Clean up ingredients (lowercase, remove accents) & tokenize (words). Then apply our best model, Logistic Regression"
   ]
  },
  {
   "cell_type": "code",
   "execution_count": 468,
   "metadata": {},
   "outputs": [
    {
     "data": {
      "text/html": [
       "<div>\n",
       "<style scoped>\n",
       "    .dataframe tbody tr th:only-of-type {\n",
       "        vertical-align: middle;\n",
       "    }\n",
       "\n",
       "    .dataframe tbody tr th {\n",
       "        vertical-align: top;\n",
       "    }\n",
       "\n",
       "    .dataframe thead th {\n",
       "        text-align: right;\n",
       "    }\n",
       "</style>\n",
       "<table border=\"1\" class=\"dataframe\">\n",
       "  <thead>\n",
       "    <tr style=\"text-align: right;\">\n",
       "      <th></th>\n",
       "      <th>cuisine</th>\n",
       "      <th>id</th>\n",
       "      <th>ingredients</th>\n",
       "    </tr>\n",
       "  </thead>\n",
       "  <tbody>\n",
       "    <tr>\n",
       "      <th>0</th>\n",
       "      <td>greek</td>\n",
       "      <td>10259</td>\n",
       "      <td>[romaine lettuce, black olives, grape tomatoes...</td>\n",
       "    </tr>\n",
       "    <tr>\n",
       "      <th>1</th>\n",
       "      <td>southern_us</td>\n",
       "      <td>25693</td>\n",
       "      <td>[plain flour, ground pepper, salt, tomatoes, g...</td>\n",
       "    </tr>\n",
       "    <tr>\n",
       "      <th>2</th>\n",
       "      <td>filipino</td>\n",
       "      <td>20130</td>\n",
       "      <td>[eggs, pepper, salt, mayonaise, cooking oil, g...</td>\n",
       "    </tr>\n",
       "    <tr>\n",
       "      <th>3</th>\n",
       "      <td>indian</td>\n",
       "      <td>22213</td>\n",
       "      <td>[water, vegetable oil, wheat, salt]</td>\n",
       "    </tr>\n",
       "    <tr>\n",
       "      <th>4</th>\n",
       "      <td>indian</td>\n",
       "      <td>13162</td>\n",
       "      <td>[black pepper, shallots, cornflour, cayenne pe...</td>\n",
       "    </tr>\n",
       "  </tbody>\n",
       "</table>\n",
       "</div>"
      ],
      "text/plain": [
       "       cuisine     id                                        ingredients\n",
       "0        greek  10259  [romaine lettuce, black olives, grape tomatoes...\n",
       "1  southern_us  25693  [plain flour, ground pepper, salt, tomatoes, g...\n",
       "2     filipino  20130  [eggs, pepper, salt, mayonaise, cooking oil, g...\n",
       "3       indian  22213                [water, vegetable oil, wheat, salt]\n",
       "4       indian  13162  [black pepper, shallots, cornflour, cayenne pe..."
      ]
     },
     "execution_count": 468,
     "metadata": {},
     "output_type": "execute_result"
    }
   ],
   "source": [
    "#1 - Load in Kaggle training dataset\n",
    "with open('train.json') as f:\n",
    "    dict_train = json.load(f)\n",
    "\n",
    "recipe = pd.DataFrame(dict_train)\n",
    "recipe.head()"
   ]
  },
  {
   "cell_type": "code",
   "execution_count": 469,
   "metadata": {},
   "outputs": [
    {
     "data": {
      "text/plain": [
       "chinese       2673\n",
       "thai          1539\n",
       "japanese      1423\n",
       "korean         830\n",
       "vietnamese     825\n",
       "Name: cuisine, dtype: int64"
      ]
     },
     "execution_count": 469,
     "metadata": {},
     "output_type": "execute_result"
    }
   ],
   "source": [
    "#Filter dataset down to only the top 5 East Asian & Southeast Asian cuisines\n",
    "asian_cuisines = ['chinese', 'thai', 'japanese', 'korean', 'vietnamese']\n",
    "recipe = recipe[recipe.cuisine.isin(asian_cuisines)]\n",
    "recipe.reset_index(drop = True, inplace = True)\n",
    "recipe.cuisine.value_counts()"
   ]
  },
  {
   "cell_type": "code",
   "execution_count": 470,
   "metadata": {},
   "outputs": [
    {
     "data": {
      "text/html": [
       "<div>\n",
       "<style scoped>\n",
       "    .dataframe tbody tr th:only-of-type {\n",
       "        vertical-align: middle;\n",
       "    }\n",
       "\n",
       "    .dataframe tbody tr th {\n",
       "        vertical-align: top;\n",
       "    }\n",
       "\n",
       "    .dataframe thead th {\n",
       "        text-align: right;\n",
       "    }\n",
       "</style>\n",
       "<table border=\"1\" class=\"dataframe\">\n",
       "  <thead>\n",
       "    <tr style=\"text-align: right;\">\n",
       "      <th></th>\n",
       "      <th>cuisine</th>\n",
       "      <th>id</th>\n",
       "      <th>ingredients</th>\n",
       "    </tr>\n",
       "  </thead>\n",
       "  <tbody>\n",
       "    <tr>\n",
       "      <th>0</th>\n",
       "      <td>chinese</td>\n",
       "      <td>45887</td>\n",
       "      <td>low sodium soy sauce fresh ginger dry mustard ...</td>\n",
       "    </tr>\n",
       "    <tr>\n",
       "      <th>1</th>\n",
       "      <td>thai</td>\n",
       "      <td>2941</td>\n",
       "      <td>sugar hot chili asian fish sauce lime juice</td>\n",
       "    </tr>\n",
       "    <tr>\n",
       "      <th>2</th>\n",
       "      <td>vietnamese</td>\n",
       "      <td>8152</td>\n",
       "      <td>soy sauce vegetable oil red bell pepper chicke...</td>\n",
       "    </tr>\n",
       "    <tr>\n",
       "      <th>3</th>\n",
       "      <td>thai</td>\n",
       "      <td>13121</td>\n",
       "      <td>pork loin roasted peanuts chopped cilantro fre...</td>\n",
       "    </tr>\n",
       "    <tr>\n",
       "      <th>4</th>\n",
       "      <td>chinese</td>\n",
       "      <td>29630</td>\n",
       "      <td>sesame seeds red pepper yellow peppers water e...</td>\n",
       "    </tr>\n",
       "  </tbody>\n",
       "</table>\n",
       "</div>"
      ],
      "text/plain": [
       "      cuisine     id                                        ingredients\n",
       "0     chinese  45887  low sodium soy sauce fresh ginger dry mustard ...\n",
       "1        thai   2941        sugar hot chili asian fish sauce lime juice\n",
       "2  vietnamese   8152  soy sauce vegetable oil red bell pepper chicke...\n",
       "3        thai  13121  pork loin roasted peanuts chopped cilantro fre...\n",
       "4     chinese  29630  sesame seeds red pepper yellow peppers water e..."
      ]
     },
     "execution_count": 470,
     "metadata": {},
     "output_type": "execute_result"
    }
   ],
   "source": [
    "#First, convert Ingredients column values from list of ingredients to a string containing all of the words\n",
    "recipe.ingredients = recipe.ingredients.apply(lambda x: ' '.join(x))\n",
    "recipe.head()"
   ]
  },
  {
   "cell_type": "code",
   "execution_count": 471,
   "metadata": {},
   "outputs": [],
   "source": [
    "#Split dataset into X and y\n",
    "\n",
    "X = recipe['ingredients']\n",
    "y = recipe['cuisine']"
   ]
  },
  {
   "cell_type": "code",
   "execution_count": 472,
   "metadata": {},
   "outputs": [],
   "source": [
    "#2 Train/Test Split - split into training and test sets\n",
    "\n",
    "X_train, X_test, y_train, y_test = train_test_split(X, y, random_state=31)"
   ]
  },
  {
   "cell_type": "code",
   "execution_count": 473,
   "metadata": {},
   "outputs": [],
   "source": [
    "#3 Use CountVectorizer to create document-term matrices from X_train and X_test.\n",
    "vect = CountVectorizer(strip_accents=ascii)\n",
    "\n",
    "# Create document-term matrices.\n",
    "X_train_dtm = vect.fit_transform(X_train)\n",
    "X_test_dtm = vect.transform(X_test)"
   ]
  },
  {
   "cell_type": "code",
   "execution_count": 474,
   "metadata": {},
   "outputs": [
    {
     "data": {
      "text/plain": [
       "(5467, 1546)"
      ]
     },
     "execution_count": 474,
     "metadata": {},
     "output_type": "execute_result"
    }
   ],
   "source": [
    "X_train_dtm.shape"
   ]
  },
  {
   "cell_type": "code",
   "execution_count": 475,
   "metadata": {},
   "outputs": [
    {
     "name": "stdout",
     "output_type": "stream",
     "text": [
      "['abalone', 'abura', 'accent', 'acorn', 'acting', 'activ', 'active', 'adobo', 'adzuki', 'agar', 'agave', 'age', 'ahi', 'ajinomoto', 'ajwain', 'aka', 'alaskan', 'ale', 'alfalfa', 'all', 'allspice', 'almond', 'almonds', 'aloe', 'amaranth', 'amchur', 'aminos', 'anaheim', 'ancho', 'anchovies', 'anchovy', 'and', 'angel', 'angled', 'anise', 'annatto', 'aonori', 'apple', 'apples', 'applesauce', 'apricot', 'apricots', 'arame', 'arbol', 'arborio', 'argo', 'arrowroot', 'arugula', 'asafetida', 'asafoetida', 'asian', 'asparagus', 'aspic', 'assorted', 'avocado', 'avocados', 'awase', 'azuki', 'baby', 'back', 'bacon', 'bag', 'bags', 'baguette', 'bai', 'baked', 'baking', 'balance', 'balls', 'balm', 'balsamic', 'bamboo', 'banana', 'bananas', 'banh', 'barbecue', 'barbecued', 'barley', 'basa', 'base', 'based', 'basil', 'basmati', 'bass', 'baton', 'batter', 'bawang', 'bay', 'bbq', 'bean', 'beans', 'beansprouts', 'beaten', 'beech', 'beef', 'beefsteak', 'beer', 'beet', 'beets', 'belacan', 'believe', 'bell', 'bells', 'belly', 'bengali', 'beni', 'bens', 'berries', 'best', 'bhindi', 'bibb', 'bicarbonate', 'bird', 'bitter', 'bittersweet', 'black', 'blackberry', 'blade', 'blanc', 'blend', 'bliss', 'blood', 'blossom', 'blue', 'boar', 'boiled', 'boiling', 'bok', 'bologna', 'bone', 'boneless', 'bones', 'bonito', 'bosc', 'boston', 'bottle', 'bottled', 'bottoms', 'bought', 'bouillon', 'bourbon', 'bow', 'boy', 'bragg', 'braggs', 'braising', 'bran', 'brandy', 'branzino', 'bread', 'breadcrumbs', 'bream', 'breast', 'breasts', 'brewed', 'brill', 'brine', 'brioche', 'brisket', 'broad', 'broccoli', 'broccolini', 'broil', 'broiler', 'broth', 'brown', 'browning', 'brussels', 'buckwheat', 'buds', 'buffalo', 'bulb', 'buns', 'burdock', 'burger', 'burgers', 'burro', 'bushi', 'butt', 'butter', 'buttercup', 'butterflied', 'buttermilk', 'butternut', 'buttery', 'button', 'cabbage', 'cai', 'cake', 'cakes', 'calamansi', 'calamari', 'calcium', 'california', 'calorie', 'can', 'candied', 'candlenuts', 'candy', 'cane', 'canes', 'canned', 'canola', 'canton', 'capellini', 'capers', 'caps', 'capsicum', 'caramel', 'caramels', 'caraway', 'carbonated', 'carcass', 'cardamom', 'cardamon', 'carp', 'carpaccio', 'carrot', 'carrots', 'cashew', 'cashews', 'cassava', 'cassia', 'caster', 'catfish', 'cauliflower', 'cauliflowerets', 'cayenne', 'celery', 'celtic', 'center', 'century', 'cereal', 'chaat', 'cham', 'champagne', 'chang', 'channa', 'char', 'chard', 'chartreuse', 'chayotes', 'cheddar', 'chee', 'cheese', 'chenpi', 'cheong', 'cherries', 'cherry', 'cherrystone', 'chestnut', 'chestnuts', 'chia', 'chicken', 'chickens', 'chickpeas', 'chiffonade', 'chile', 'chilean', 'chilegarlic', 'chiles', 'chili', 'chilies', 'chilli', 'chillies', 'chinese', 'chinkiang', 'chipotle', 'chipotles', 'chips', 'chives', 'chocolate', 'choi', 'chong', 'chop', 'chopped', 'chops', 'chow', 'choy', 'chrysanthemum', 'chua', 'chuck', 'chuka', 'chunks', 'chunky', 'chuno', 'chutney', 'ciabatta', 'cider', 'cilantro', 'cinnamon', 'citrus', 'clam', 'clams', 'clarified', 'clear', 'cloud', 'clove', 'cloves', 'club', 'coarse', 'coca', 'cockles', 'cocktail', 'cocoa', 'coconut', 'cod', 'coffee', 'cognac', 'coke', 'cola', 'cold', 'cole', 'coleslaw', 'color', 'coloring', 'colouring', 'comice', 'compressed', 'concentrate', 'condensed', 'condiments', 'confectioners', 'conimex', 'consomme', 'converted', 'cook', 'cooked', 'cookie', 'cookies', 'cooking', 'coriander', 'corn', 'cornflour', 'cornish', 'cornmeal', 'cottage', 'country', 'cr', 'crab', 'crabmeat', 'crabs', 'cracked', 'cracker', 'crackers', 'cranberries', 'cream', 'creamy', 'crema', 'cremini', 'creole', 'crepes', 'cress', 'crimini', 'crisps', 'crispy', 'crock', 'crookneck', 'crosswise', 'crumb', 'crumbled', 'crumbles', 'crumbs', 'crunch', 'crushed', 'crust', 'crusty', 'crystallized', 'cuban', 'cube', 'cubed', 'cubes', 'cucumber', 'cucumbers', 'cuisine', 'culantro', 'cumin', 'curd', 'curds', 'curly', 'curry', 'custard', 'cut', 'cutlet', 'cutlets', 'cuts', 'cuttlefish', 'daal', 'daikon', 'dairy', 'dal', 'dangmyun', 'darjeeling', 'dark', 'dashi', 'date', 'dates', 'de', 'decorating', 'deep', 'deli', 'delicata', 'delicious', 'demi', 'devein', 'deveined', 'diced', 'diet', 'dijon', 'dill', 'dipping', 'distilled', 'do', 'doenzang', 'dogs', 'doubanjiang', 'double', 'dough', 'doughs', 'drain', 'drained', 'dressing', 'dried', 'drum', 'drummettes', 'drumstick', 'drumsticks', 'dry', 'duck', 'dulong', 'dumpling', 'dumplings', 'dungeness', 'dusting', 'ear', 'ears', 'earth', 'edamame', 'edible', 'egg', 'eggplant', 'eggplants', 'eggroll', 'eggs', 'english', 'enokitake', 'equal', 'erythritol', 'escarole', 'espresso', 'essence', 'european', 'evaporated', 'extra', 'extract', 'eye', 'eyed', 'fat', 'fatback', 'fatfree', 'fava', 'feet', 'fennel', 'fenugreek', 'fermented', 'fern', 'ferns', 'feta', 'fettuccine', 'fettuccini', 'fettucine', 'fiddlehead', 'fig', 'filet', 'fillet', 'fillets', 'filling', 'fine', 'finely', 'fingers', 'fire', 'firm', 'firmly', 'fish', 'fishcake', 'five', 'flaked', 'flakes', 'flank', 'flanken', 'flat', 'flatbread', 'flavor', 'flavored', 'flavoring', 'fleshed', 'fleur', 'flora', 'florets', 'flour', 'flower', 'flowerets', 'flowering', 'flowers', 'food', 'for', 'forest', 'fra', 'frank', 'free', 'french', 'fresh', 'freshly', 'fresno', 'fried', 'fries', 'fromage', 'fronds', 'frosting', 'frozen', 'fructose', 'fruit', 'fruits', 'fry', 'fryer', 'fu', 'fuji', 'full', 'fully', 'fungus', 'furikake', 'fusilli', 'fuyu', 'gai', 'gala', 'galanga', 'galangal', 'game', 'gao', 'garam', 'garbanzo', 'garden', 'gari', 'garland', 'garlic', 'gelatin', 'gem', 'gember', 'genmai', 'ghee', 'giblet', 'gin', 'ginger', 'gingerroot', 'ginkgo', 'ginseng', 'glace', 'glass', 'glaze', 'globe', 'gluten', 'glutinous', 'gobo', 'gochugaru', 'gochujang', 'goji', 'gold', 'golden', 'goma', 'goreng', 'gourd', 'grade', 'graham', 'grain', 'gram', 'grand', 'granny', 'granulated', 'granules', 'grape', 'grapefruit', 'grapeseed', 'grass', 'grassfed', 'grate', 'grated', 'gravy', 'greater', 'greek', 'green', 'greens', 'grill', 'grilled', 'ground', 'groundnut', 'guajillo', 'gum', 'gyoza', 'haas', 'habanero', 'habas', 'hair', 'hakusai', 'half', 'halibut', 'halves', 'ham', 'hamachi', 'hamburger', 'hand', 'hanger', 'hanh', 'hard', 'haricots', 'hass', 'hatcho', 'hawaiian', 'hazelnuts', 'head', 'heads', 'heart', 'hearts', 'heavy', 'heeng', 'heinz', 'heirloom', 'hellmann', 'hens', 'herb', 'herbs', 'hero', 'hibiscus', 'hijiki', 'himalayan', 'hoagie', 'hock', 'hoi', 'hoisin', 'holy', 'homemade', 'homestyl', 'honey', 'honeydew', 'hong', 'horseradish', 'hot', 'hothouse', 'hsing', 'hummus', 'ice', 'iceberg', 'iced', 'idaho', 'ikura', 'imitation', 'imo', 'imperial', 'in', 'instant', 'iron', 'it', 'italian', 'jack', 'jackfruit', 'jaggery', 'jalape', 'jalapeno', 'jam', 'japanese', 'jasmine', 'jeera', 'jello', 'jelly', 'jerky', 'jicama', 'jif', 'juice', 'jujube', 'jujubes', 'jumbo', 'juniper', 'kabocha', 'kabuli', 'kaffir', 'kahlua', 'kale', 'kalonji', 'kamaboko', 'kampyo', 'karo', 'kasu', 'kasuri', 'katakuriko', 'katsuo', 'kecap', 'kefir', 'kelp', 'kernel', 'kernels', 'ketchup', 'ketjap', 'kewpie', 'key', 'kha', 'khoa', 'kikkoman', 'kim', 'kimchi', 'king', 'kirby', 'kiwi', 'knoblauch', 'knoflook', 'knorr', 'kochu', 'kochujang', 'kohlrabi', 'komatsuna', 'kombu', 'konbu', 'kong', 'konnyaku', 'korean', 'kosher', 'krispies', 'kumquats', 'kung', 'lacinato', 'lager', 'laksa', 'lamb', 'lan', 'lap', 'lard', 'large', 'lea', 'leaf', 'leafy', 'lean', 'leav', 'leaves', 'leeks', 'leftover', 'leg', 'legs', 'lemon', 'lemongrass', 'lentil', 'lentils', 'less', 'lesser', 'lettuc', 'lettuce', 'light', 'lily', 'lime', 'linguine', 'linguini', 'links', 'lipton', 'liqueur', 'liquid', 'liquor', 'liquorice', 'lite', 'littleneck', 'liver', 'livers', 'lo', 'loaf', 'lobster', 'loin', 'london', 'long', 'longan', 'loofah', 'loosely', 'lop', 'lotus', 'low', 'lower', 'lowsodium', 'lox', 'lump', 'lychees', 'macadamia', 'mace', 'mackerel', 'madras', 'maggi', 'mahi', 'maida', 'maifun', 'maitake', 'maldon', 'malt', 'maltose', 'mam', 'mandarin', 'mango', 'manis', 'mantou', 'maple', 'margarine', 'marinade', 'marinara', 'marmalade', 'marnier', 'marrow', 'marsala', 'marzano', 'masago', 'masala', 'mascarpone', 'mashed', 'massaman', 'matcha', 'matzo', 'maui', 'mayonaise', 'mayonnais', 'mayonnaise', 'mazola', 'mccormick', 'meal', 'meat', 'meatballs', 'medium', 'medjool', 'mein', 'mellow', 'melon', 'melted', 'mentaiko', 'mentsuyu', 'merluza', 'mesclun', 'methi', 'mexican', 'mi', 'mian', 'mie', 'mignon', 'mild', 'milk', 'millet', 'min', 'minced', 'mini', 'mint', 'minute', 'mirin', 'miso', 'mitsuba', 'mix', 'mixed', 'mizkan', 'mizuna', 'mo', 'mochi', 'mochiko', 'molasses', 'monterey', 'moong', 'morel', 'morsels', 'moss', 'mountain', 'mozzarella', 'msg', 'mullet', 'mung', 'muscavado', 'muscovado', 'mushroom', 'mushrooms', 'mussels', 'mustard', 'naan', 'nam', 'nama', 'napa', 'nappa', 'natto', 'natural', 'navel', 'neck', 'nectar', 'negi', 'neutral', 'new', 'ngo', 'nian', 'nigella', 'no', 'non', 'nonfat', 'nonstick', 'noodl', 'noodle', 'noodles', 'nori', 'not', 'nuoc', 'nut', 'nutmeg', 'nutritional', 'nuts', 'oatmeal', 'oats', 'of', 'oigatsuo', 'oil', 'okra', 'old', 'olek', 'olie', 'olive', 'olives', 'oloroso', 'on', 'onion', 'onions', 'opo', 'or', 'orang', 'orange', 'oranges', 'oregano', 'organic', 'oriental', 'original', 'orzo', 'oxtails', 'oyster', 'oysters', 'oz', 'packed', 'paddy', 'pak', 'palm', 'panang', 'pancake', 'pancakes', 'pandan', 'pandanus', 'paneer', 'panko', 'pao', 'papaya', 'paper', 'paprika', 'parboiled', 'parma', 'parmesan', 'parsley', 'part', 'parts', 'pasta', 'paste', 'pastry', 'pate', 'patis', 'pea', 'peaches', 'peanut', 'peanuts', 'peapods', 'pear', 'pearl', 'pearls', 'pears', 'peas', 'pecans', 'pecorino', 'peel', 'peeled', 'penne', 'peperoncini', 'pepper', 'peppercorn', 'peppercorns', 'peppers', 'perilla', 'perrins', 'persian', 'persimmon', 'persimmons', 'pesto', 'petit', 'petite', 'petrale', 'philadelphia', 'pho', 'phyllo', 'picante', 'pickle', 'pickled', 'pickles', 'pickling', 'piece', 'pieces', 'pig', 'pilaf', 'pimento', 'pine', 'pineapple', 'pineapples', 'pinenuts', 'pink', 'pistachios', 'pita', 'pitas', 'pitted', 'pizza', 'pla', 'plain', 'plantains', 'plum', 'plums', 'plus', 'poblano', 'pods', 'poha', 'poi', 'pois', 'pollock', 'pomegranate', 'pomelo', 'pompano', 'ponzu', 'popcorn', 'poppy', 'pork', 'port', 'portabello', 'pot', 'potato', 'potatoes', 'potsticker', 'poultry', 'powder', 'powdered', 'prawn', 'prawns', 'prepared', 'preserved', 'preserves', 'pressed', 'prik', 'pro', 'processed', 'progresso', 'prosciutto', 'prunes', 'pudding', 'puff', 'puffs', 'pulp', 'pummelo', 'pumpkin', 'pur', 'pure', 'puree', 'purple', 'purpos', 'purpose', 'quail', 'quarters', 'quick', 'quinoa', 'rabbit', 'rack', 'radicchio', 'radish', 'radishes', 'rainbow', 'raising', 'raisins', 'ramen', 'ramps', 'ranch', 'range', 'rape', 'rapeseed', 'rapid', 'raspberries', 'raw', 'real', 'recipe', 'red', 'redhot', 'reduced', 'refrigerated', 'regular', 'relish', 'rhubarb', 'rib', 'riblets', 'ribs', 'rice', 'ricotta', 'rind', 'rings', 'rins', 'rise', 'rising', 'riso', 'roast', 'roasted', 'roasting', 'rock', 'rocket', 'roe', 'roll', 'rolls', 'roma', 'romain', 'romaine', 'romanesco', 'romano', 'root', 'roots', 'rose', 'rosemary', 'rotisserie', 'round', 'rounds', 'roux', 'rub', 'ruby', 'rum', 'rump', 'runny', 'russet', 'rye', 'safflower', 'saffron', 'sage', 'saigon', 'sake', 'saki', 'salad', 'salami', 'salmon', 'salsa', 'salsify', 'salt', 'salted', 'sambal', 'san', 'sandwich', 'sansho', 'sardines', 'sashimi', 'satsuma', 'satsumas', 'sauc', 'sauce', 'sauces', 'sauerkraut', 'sausage', 'sausages', 'savory', 'savoy', 'scallion', 'scallions', 'scallops', 'scotch', 'scrod', 'sea', 'seafood', 'seasoned', 'seasoning', 'seaweed', 'secrets', 'seed', 'seedless', 'seeds', 'segments', 'seitan', 'sel', 'self', 'seltzer', 'semi', 'semisweet', 'semolina', 'serrano', 'sesame', 'shallots', 'shanghai', 'shank', 'shanks', 'shao', 'shaoxing', 'sharp', 'sheets', 'shell', 'shelled', 'shells', 'sherry', 'shichimi', 'shiitake', 'shimeji', 'shirataki', 'shiro', 'shiromiso', 'shishito', 'shiso', 'shoga', 'shoots', 'short', 'shortbread', 'shortening', 'shoulder', 'shoyu', 'shredded', 'shrimp', 'shucked', 'shungiku', 'sichuan', 'sichuanese', 'side', 'silken', 'simple', 'sirloin', 'siu', 'skate', 'skim', 'skimmed', 'skin', 'skinless', 'skins', 'skirt', 'slab', 'slaw', 'slice', 'sliced', 'slices', 'slider', 'slivered', 'small', 'smith', 'smithfield', 'smoke', 'smoked', 'smooth', 'snapper', 'snappers', 'snow', 'soaking', 'soba', 'soda', 'sodium', 'soft', 'soften', 'soi', 'sole', 'somen', 'sooji', 'soup', 'sour', 'sourdough', 'soy', 'soya', 'soybean', 'soybeans', 'spaghetti', 'spaghettini', 'spam', 'spanish', 'spare', 'spareribs', 'sparkling', 'spearmint', 'spears', 'specials', 'spice', 'spices', 'spinach', 'splenda', 'split', 'sponge', 'spray', 'spread', 'sprigs', 'spring', 'sprinkles', 'sprite', 'sprouts', 'squash', 'squid', 'squirt', 'sriracha', 'star', 'starch', 'steak', 'steaks', 'steamed', 'steamer', 'steel', 'stem', 'stems', 'stevia', 'stew', 'stewing', 'stick', 'stickers', 'sticks', 'sticky', 'stir', 'stock', 'store', 'strained', 'straw', 'strawberries', 'strawberry', 'streaky', 'string', 'strip', 'striped', 'strips', 'strong', 'stuffed', 'stuffing', 'sturgeon', 'style', 'substitute', 'suckling', 'sugar', 'sugars', 'sum', 'sumac', 'summer', 'sun', 'sunflower', 'superfine', 'sushi', 'swanson', 'sweet', 'sweetened', 'sweetener', 'swerve', 'swiss', 'swordfish', 'syrup', 'szechuan', 'szechwan', 'tabasco', 'table', 'tahini', 'taiwanese', 'tamari', 'tamarind', 'tangerine', 'tangzhong', 'tap', 'tapioca', 'taro', 'tart', 'tartar', 'taste', 'tatsoi', 'tawny', 'tea', 'teas', 'tempeh', 'tempura', 'tender', 'tenderloin', 'tenderloins', 'tenders', 'tendons', 'tentacles', 'tequila', 'teriyaki', 'thai', 'thawed', 'the', 'thick', 'thigh', 'thighs', 'thin', 'thinli', 'thread', 'threads', 'thyme', 'tie', 'tiger', 'tilapia', 'tip', 'tips', 'toast', 'toasted', 'tobiko', 'tofu', 'togarashi', 'tokyo', 'tom', 'tomato', 'tomatoes', 'ton', 'tongue', 'tonic', 'tonkatsu', 'toor', 'top', 'tops', 'torn', 'tortellini', 'tortilla', 'tortillas', 'tree', 'tri', 'trimmed', 'tripe', 'trotters', 'trout', 'truffle', 'trumpet', 'truv', 'tsuyu', 'tumeric', 'tuna', 'tuong', 'turbinado', 'turkey', 'turmeric', 'turnip', 'turnips', 'twists', 'tyson', 'u2122', 'udon', 'ulek', 'ume', 'umeboshi', 'unagi', 'unbleached', 'uncle', 'uncook', 'uncooked', 'unflavored', 'uni', 'unsalt', 'unsalted', 'unseasoned', 'unsweeten', 'unsweetened', 'urad', 'usukuchi', 'vanilla', 'varnish', 'vay', 'vegan', 'veget', 'vegetable', 'vegetables', 'vegetarian', 'veggies', 'venison', 'vermicelli', 'verts', 'vidalia', 'vietnamese', 'vinaigrette', 'vinegar', 'virgin', 'virginia', 'vitamin', 'vodka', 'wafer', 'wafers', 'waffle', 'wakame', 'walnut', 'walnuts', 'warm', 'wasabe', 'wasabi', 'water', 'watercress', 'watermelon', 'wax', 'waxy', 'wedge', 'wedges', 'wheat', 'wheatberries', 'wheels', 'whipped', 'whipping', 'whiskey', 'white', 'whitefish', 'whites', 'whole', 'wide', 'wild', 'wine', 'winesap', 'wing', 'wingettes', 'wings', 'winter', 'wish', 'with', 'wok', 'woksaus', 'wolfberries', 'won', 'wondra', 'wonton', 'wood', 'worcestershire', 'wrappers', 'wraps', 'xae', 'xanthan', 'xe2t', 'xe8me', 'xe9', 'xe9e', 'xeda', 'xeeche', 'yaki', 'yakisoba', 'yam', 'yams', 'yardlong', 'yeast', 'yellow', 'yellowfin', 'yellowtail', 'yoghurt', 'yogurt', 'yolk', 'yolks', 'york', 'yu', 'yukon', 'yum', 'yuzu', 'yuzukosho', 'zest', 'zucchini']\n"
     ]
    }
   ],
   "source": [
    "print((vect.get_feature_names()[:]))"
   ]
  },
  {
   "cell_type": "code",
   "execution_count": 477,
   "metadata": {},
   "outputs": [
    {
     "name": "stderr",
     "output_type": "stream",
     "text": [
      "/anaconda3/lib/python3.6/site-packages/sklearn/linear_model/logistic.py:433: FutureWarning: Default solver will be changed to 'lbfgs' in 0.22. Specify a solver to silence this warning.\n",
      "  FutureWarning)\n",
      "/anaconda3/lib/python3.6/site-packages/sklearn/linear_model/logistic.py:460: FutureWarning: Default multi_class will be changed to 'auto' in 0.22. Specify the multi_class option to silence this warning.\n",
      "  \"this warning.\", FutureWarning)\n"
     ]
    },
    {
     "name": "stdout",
     "output_type": "stream",
     "text": [
      "0.8134942402633023\n"
     ]
    }
   ],
   "source": [
    "# Instantiate & fit Logistic Regression model\n",
    "\n",
    "logreg = LogisticRegression()\n",
    "\n",
    "logreg.fit(X_train_dtm, y_train)\n",
    "y_pred_class = logreg.predict(X_test_dtm)\n",
    "\n",
    "# Calculate accuracy.\n",
    "print((metrics.accuracy_score(y_test, y_pred_class)))"
   ]
  },
  {
   "cell_type": "code",
   "execution_count": 478,
   "metadata": {},
   "outputs": [
    {
     "name": "stdout",
     "output_type": "stream",
     "text": [
      "              precision    recall  f1-score   support\n",
      "\n",
      "     chinese       0.83      0.90      0.86       683\n",
      "    japanese       0.85      0.84      0.84       376\n",
      "      korean       0.80      0.75      0.77       199\n",
      "        thai       0.79      0.81      0.80       353\n",
      "  vietnamese       0.75      0.57      0.65       212\n",
      "\n",
      "   micro avg       0.81      0.81      0.81      1823\n",
      "   macro avg       0.80      0.77      0.78      1823\n",
      "weighted avg       0.81      0.81      0.81      1823\n",
      "\n"
     ]
    }
   ],
   "source": [
    "print(classification_report(y_test, y_pred_class))"
   ]
  },
  {
   "cell_type": "code",
   "execution_count": 479,
   "metadata": {},
   "outputs": [
    {
     "data": {
      "text/plain": [
       "<matplotlib.axes._subplots.AxesSubplot at 0x1a86ebd1d0>"
      ]
     },
     "execution_count": 479,
     "metadata": {},
     "output_type": "execute_result"
    },
    {
     "data": {
      "image/png": "[encoded data removed]",
      "text/plain": [
       "<Figure size 432x288 with 2 Axes>"
      ]
     },
     "metadata": {},
     "output_type": "display_data"
    }
   ],
   "source": [
    "#Look at confusion matrix\n",
    "array = confusion_matrix(y_test, y_pred_class)\n",
    "df_cm = pd.DataFrame(array, index = [i for i in ['chinese', 'thai', 'japanese', 'korean', 'vietnamese']],\n",
    "                  columns = [i for i in ['chinese', 'thai', 'japanese', 'korean', 'vietnamese']])\n",
    "sns.heatmap(df_cm, annot=True, fmt='g', cmap='Blues')\n",
    "#columns = class predicted by model\n",
    "#rows = actual classes"
   ]
  },
  {
   "cell_type": "markdown",
   "metadata": {},
   "source": [
    "## Best Method - Tokenize with n-grams instead of words (optimize N & minimum document frequency), then apply Logistic Regression"
   ]
  },
  {
   "cell_type": "code",
   "execution_count": 43,
   "metadata": {},
   "outputs": [
    {
     "data": {
      "text/html": [
       "<div>\n",
       "<style scoped>\n",
       "    .dataframe tbody tr th:only-of-type {\n",
       "        vertical-align: middle;\n",
       "    }\n",
       "\n",
       "    .dataframe tbody tr th {\n",
       "        vertical-align: top;\n",
       "    }\n",
       "\n",
       "    .dataframe thead th {\n",
       "        text-align: right;\n",
       "    }\n",
       "</style>\n",
       "<table border=\"1\" class=\"dataframe\">\n",
       "  <thead>\n",
       "    <tr style=\"text-align: right;\">\n",
       "      <th></th>\n",
       "      <th>cuisine</th>\n",
       "      <th>id</th>\n",
       "      <th>ingredients</th>\n",
       "    </tr>\n",
       "  </thead>\n",
       "  <tbody>\n",
       "    <tr>\n",
       "      <th>0</th>\n",
       "      <td>greek</td>\n",
       "      <td>10259</td>\n",
       "      <td>[romaine lettuce, black olives, grape tomatoes...</td>\n",
       "    </tr>\n",
       "    <tr>\n",
       "      <th>1</th>\n",
       "      <td>southern_us</td>\n",
       "      <td>25693</td>\n",
       "      <td>[plain flour, ground pepper, salt, tomatoes, g...</td>\n",
       "    </tr>\n",
       "    <tr>\n",
       "      <th>2</th>\n",
       "      <td>filipino</td>\n",
       "      <td>20130</td>\n",
       "      <td>[eggs, pepper, salt, mayonaise, cooking oil, g...</td>\n",
       "    </tr>\n",
       "    <tr>\n",
       "      <th>3</th>\n",
       "      <td>indian</td>\n",
       "      <td>22213</td>\n",
       "      <td>[water, vegetable oil, wheat, salt]</td>\n",
       "    </tr>\n",
       "    <tr>\n",
       "      <th>4</th>\n",
       "      <td>indian</td>\n",
       "      <td>13162</td>\n",
       "      <td>[black pepper, shallots, cornflour, cayenne pe...</td>\n",
       "    </tr>\n",
       "  </tbody>\n",
       "</table>\n",
       "</div>"
      ],
      "text/plain": [
       "       cuisine     id                                        ingredients\n",
       "0        greek  10259  [romaine lettuce, black olives, grape tomatoes...\n",
       "1  southern_us  25693  [plain flour, ground pepper, salt, tomatoes, g...\n",
       "2     filipino  20130  [eggs, pepper, salt, mayonaise, cooking oil, g...\n",
       "3       indian  22213                [water, vegetable oil, wheat, salt]\n",
       "4       indian  13162  [black pepper, shallots, cornflour, cayenne pe..."
      ]
     },
     "execution_count": 43,
     "metadata": {},
     "output_type": "execute_result"
    }
   ],
   "source": [
    "#1 - Load in Kaggle training dataset\n",
    "with open('train.json') as f:\n",
    "    dict_train = json.load(f)\n",
    "\n",
    "recipe = pd.DataFrame(dict_train)\n",
    "recipe.head()"
   ]
  },
  {
   "cell_type": "code",
   "execution_count": 44,
   "metadata": {},
   "outputs": [
    {
     "data": {
      "text/plain": [
       "chinese       2673\n",
       "thai          1539\n",
       "japanese      1423\n",
       "korean         830\n",
       "vietnamese     825\n",
       "Name: cuisine, dtype: int64"
      ]
     },
     "execution_count": 44,
     "metadata": {},
     "output_type": "execute_result"
    }
   ],
   "source": [
    "#Filter dataset down to only the top 5 East Asian & Southeast Asian cuisines\n",
    "asian_cuisines = ['chinese', 'thai', 'japanese', 'korean', 'vietnamese']\n",
    "recipe = recipe[recipe.cuisine.isin(asian_cuisines)]\n",
    "recipe.reset_index(drop = True, inplace = True)\n",
    "recipe.cuisine.value_counts()"
   ]
  },
  {
   "cell_type": "code",
   "execution_count": 45,
   "metadata": {},
   "outputs": [
    {
     "data": {
      "text/html": [
       "<div>\n",
       "<style scoped>\n",
       "    .dataframe tbody tr th:only-of-type {\n",
       "        vertical-align: middle;\n",
       "    }\n",
       "\n",
       "    .dataframe tbody tr th {\n",
       "        vertical-align: top;\n",
       "    }\n",
       "\n",
       "    .dataframe thead th {\n",
       "        text-align: right;\n",
       "    }\n",
       "</style>\n",
       "<table border=\"1\" class=\"dataframe\">\n",
       "  <thead>\n",
       "    <tr style=\"text-align: right;\">\n",
       "      <th></th>\n",
       "      <th>cuisine</th>\n",
       "      <th>id</th>\n",
       "      <th>ingredients</th>\n",
       "    </tr>\n",
       "  </thead>\n",
       "  <tbody>\n",
       "    <tr>\n",
       "      <th>0</th>\n",
       "      <td>chinese</td>\n",
       "      <td>45887</td>\n",
       "      <td>low sodium soy sauce fresh ginger dry mustard ...</td>\n",
       "    </tr>\n",
       "    <tr>\n",
       "      <th>1</th>\n",
       "      <td>thai</td>\n",
       "      <td>2941</td>\n",
       "      <td>sugar hot chili asian fish sauce lime juice</td>\n",
       "    </tr>\n",
       "    <tr>\n",
       "      <th>2</th>\n",
       "      <td>vietnamese</td>\n",
       "      <td>8152</td>\n",
       "      <td>soy sauce vegetable oil red bell pepper chicke...</td>\n",
       "    </tr>\n",
       "    <tr>\n",
       "      <th>3</th>\n",
       "      <td>thai</td>\n",
       "      <td>13121</td>\n",
       "      <td>pork loin roasted peanuts chopped cilantro fre...</td>\n",
       "    </tr>\n",
       "    <tr>\n",
       "      <th>4</th>\n",
       "      <td>chinese</td>\n",
       "      <td>29630</td>\n",
       "      <td>sesame seeds red pepper yellow peppers water e...</td>\n",
       "    </tr>\n",
       "  </tbody>\n",
       "</table>\n",
       "</div>"
      ],
      "text/plain": [
       "      cuisine     id                                        ingredients\n",
       "0     chinese  45887  low sodium soy sauce fresh ginger dry mustard ...\n",
       "1        thai   2941        sugar hot chili asian fish sauce lime juice\n",
       "2  vietnamese   8152  soy sauce vegetable oil red bell pepper chicke...\n",
       "3        thai  13121  pork loin roasted peanuts chopped cilantro fre...\n",
       "4     chinese  29630  sesame seeds red pepper yellow peppers water e..."
      ]
     },
     "execution_count": 45,
     "metadata": {},
     "output_type": "execute_result"
    }
   ],
   "source": [
    "#First, convert Ingredients column values from list of ingredients to a string containing all of the words\n",
    "recipe.ingredients = recipe.ingredients.apply(lambda x: ' '.join(x))\n",
    "recipe.head()"
   ]
  },
  {
   "cell_type": "code",
   "execution_count": 46,
   "metadata": {},
   "outputs": [],
   "source": [
    "#Split dataset into X and y\n",
    "\n",
    "X = recipe['ingredients']\n",
    "y = recipe['cuisine']"
   ]
  },
  {
   "cell_type": "code",
   "execution_count": 47,
   "metadata": {},
   "outputs": [],
   "source": [
    "#2 Train/Test Split - split into training and test sets\n",
    "\n",
    "X_train, X_test, y_train, y_test = train_test_split(X, y, random_state=31)"
   ]
  },
  {
   "cell_type": "code",
   "execution_count": 48,
   "metadata": {},
   "outputs": [
    {
     "data": {
      "text/plain": [
       "(5467, 147812)"
      ]
     },
     "execution_count": 48,
     "metadata": {},
     "output_type": "execute_result"
    }
   ],
   "source": [
    "# Use CountVectorizer, including 1-grams and 2-grams.\n",
    "vect = CountVectorizer(ngram_range=(1, 4), min_df=1, strip_accents=ascii)\n",
    "X_train_dtm = vect.fit_transform(X_train)\n",
    "X_test_dtm = vect.transform(X_test)\n",
    "X_train_dtm.shape"
   ]
  },
  {
   "cell_type": "code",
   "execution_count": 49,
   "metadata": {},
   "outputs": [
    {
     "name": "stderr",
     "output_type": "stream",
     "text": [
      "/anaconda3/lib/python3.6/site-packages/sklearn/linear_model/logistic.py:433: FutureWarning: Default solver will be changed to 'lbfgs' in 0.22. Specify a solver to silence this warning.\n",
      "  FutureWarning)\n",
      "/anaconda3/lib/python3.6/site-packages/sklearn/linear_model/logistic.py:460: FutureWarning: Default multi_class will be changed to 'auto' in 0.22. Specify the multi_class option to silence this warning.\n",
      "  \"this warning.\", FutureWarning)\n"
     ]
    },
    {
     "name": "stdout",
     "output_type": "stream",
     "text": [
      "0.8151398793198025\n"
     ]
    }
   ],
   "source": [
    "# Instantiate & fit Logistic Regression model\n",
    "\n",
    "logreg = LogisticRegression()\n",
    "\n",
    "logreg.fit(X_train_dtm, y_train)\n",
    "y_pred_class = logreg.predict(X_test_dtm)\n",
    "\n",
    "# Calculate accuracy.\n",
    "print((metrics.accuracy_score(y_test, y_pred_class)))"
   ]
  },
  {
   "cell_type": "code",
   "execution_count": 50,
   "metadata": {},
   "outputs": [
    {
     "name": "stdout",
     "output_type": "stream",
     "text": [
      "              precision    recall  f1-score   support\n",
      "\n",
      "     chinese       0.82      0.91      0.86       683\n",
      "    japanese       0.84      0.83      0.83       376\n",
      "      korean       0.83      0.73      0.78       199\n",
      "        thai       0.79      0.81      0.80       353\n",
      "  vietnamese       0.79      0.58      0.67       212\n",
      "\n",
      "   micro avg       0.82      0.82      0.82      1823\n",
      "   macro avg       0.81      0.77      0.79      1823\n",
      "weighted avg       0.82      0.82      0.81      1823\n",
      "\n"
     ]
    }
   ],
   "source": [
    "print(classification_report(y_test, y_pred_class))"
   ]
  },
  {
   "cell_type": "code",
   "execution_count": 51,
   "metadata": {},
   "outputs": [
    {
     "data": {
      "text/plain": [
       "<matplotlib.axes._subplots.AxesSubplot at 0x1a24fb5ba8>"
      ]
     },
     "execution_count": 51,
     "metadata": {},
     "output_type": "execute_result"
    },
    {
     "data": {
      "image/png": "[encoded data removed]",
      "text/plain": [
       "<Figure size 432x288 with 2 Axes>"
      ]
     },
     "metadata": {
      "needs_background": "light"
     },
     "output_type": "display_data"
    }
   ],
   "source": [
    "#Look at confusion matrix\n",
    "array = confusion_matrix(y_test, y_pred_class)\n",
    "df_cm = pd.DataFrame(array, index = [i for i in ['chinese', 'thai', 'japanese', 'korean', 'vietnamese']],\n",
    "                  columns = [i for i in ['chinese', 'thai', 'japanese', 'korean', 'vietnamese']])\n",
    "sns.heatmap(df_cm, annot=True, fmt='g', cmap='Blues')\n",
    "#columns = class predicted by model\n",
    "#rows = actual classes"
   ]
  },
  {
   "cell_type": "markdown",
   "metadata": {},
   "source": [
    "## Tokenize with words using stemming, then apply Logistic Regression"
   ]
  },
  {
   "cell_type": "code",
   "execution_count": 548,
   "metadata": {},
   "outputs": [
    {
     "data": {
      "text/html": [
       "<div>\n",
       "<style scoped>\n",
       "    .dataframe tbody tr th:only-of-type {\n",
       "        vertical-align: middle;\n",
       "    }\n",
       "\n",
       "    .dataframe tbody tr th {\n",
       "        vertical-align: top;\n",
       "    }\n",
       "\n",
       "    .dataframe thead th {\n",
       "        text-align: right;\n",
       "    }\n",
       "</style>\n",
       "<table border=\"1\" class=\"dataframe\">\n",
       "  <thead>\n",
       "    <tr style=\"text-align: right;\">\n",
       "      <th></th>\n",
       "      <th>cuisine</th>\n",
       "      <th>id</th>\n",
       "      <th>ingredients</th>\n",
       "    </tr>\n",
       "  </thead>\n",
       "  <tbody>\n",
       "    <tr>\n",
       "      <th>0</th>\n",
       "      <td>greek</td>\n",
       "      <td>10259</td>\n",
       "      <td>[romaine lettuce, black olives, grape tomatoes...</td>\n",
       "    </tr>\n",
       "    <tr>\n",
       "      <th>1</th>\n",
       "      <td>southern_us</td>\n",
       "      <td>25693</td>\n",
       "      <td>[plain flour, ground pepper, salt, tomatoes, g...</td>\n",
       "    </tr>\n",
       "    <tr>\n",
       "      <th>2</th>\n",
       "      <td>filipino</td>\n",
       "      <td>20130</td>\n",
       "      <td>[eggs, pepper, salt, mayonaise, cooking oil, g...</td>\n",
       "    </tr>\n",
       "    <tr>\n",
       "      <th>3</th>\n",
       "      <td>indian</td>\n",
       "      <td>22213</td>\n",
       "      <td>[water, vegetable oil, wheat, salt]</td>\n",
       "    </tr>\n",
       "    <tr>\n",
       "      <th>4</th>\n",
       "      <td>indian</td>\n",
       "      <td>13162</td>\n",
       "      <td>[black pepper, shallots, cornflour, cayenne pe...</td>\n",
       "    </tr>\n",
       "  </tbody>\n",
       "</table>\n",
       "</div>"
      ],
      "text/plain": [
       "       cuisine     id                                        ingredients\n",
       "0        greek  10259  [romaine lettuce, black olives, grape tomatoes...\n",
       "1  southern_us  25693  [plain flour, ground pepper, salt, tomatoes, g...\n",
       "2     filipino  20130  [eggs, pepper, salt, mayonaise, cooking oil, g...\n",
       "3       indian  22213                [water, vegetable oil, wheat, salt]\n",
       "4       indian  13162  [black pepper, shallots, cornflour, cayenne pe..."
      ]
     },
     "execution_count": 548,
     "metadata": {},
     "output_type": "execute_result"
    }
   ],
   "source": [
    "#1 - Load in Kaggle training dataset\n",
    "with open('train.json') as f:\n",
    "    dict_train = json.load(f)\n",
    "\n",
    "recipe = pd.DataFrame(dict_train)\n",
    "recipe.head()"
   ]
  },
  {
   "cell_type": "code",
   "execution_count": 549,
   "metadata": {},
   "outputs": [
    {
     "data": {
      "text/plain": [
       "chinese       2673\n",
       "thai          1539\n",
       "japanese      1423\n",
       "korean         830\n",
       "vietnamese     825\n",
       "Name: cuisine, dtype: int64"
      ]
     },
     "execution_count": 549,
     "metadata": {},
     "output_type": "execute_result"
    }
   ],
   "source": [
    "#Filter dataset down to only the top 5 East Asian & Southeast Asian cuisines\n",
    "asian_cuisines = ['chinese', 'thai', 'japanese', 'korean', 'vietnamese']\n",
    "recipe = recipe[recipe.cuisine.isin(asian_cuisines)]\n",
    "recipe.reset_index(drop = True, inplace = True)\n",
    "recipe.cuisine.value_counts()"
   ]
  },
  {
   "cell_type": "code",
   "execution_count": 550,
   "metadata": {},
   "outputs": [
    {
     "data": {
      "text/html": [
       "<div>\n",
       "<style scoped>\n",
       "    .dataframe tbody tr th:only-of-type {\n",
       "        vertical-align: middle;\n",
       "    }\n",
       "\n",
       "    .dataframe tbody tr th {\n",
       "        vertical-align: top;\n",
       "    }\n",
       "\n",
       "    .dataframe thead th {\n",
       "        text-align: right;\n",
       "    }\n",
       "</style>\n",
       "<table border=\"1\" class=\"dataframe\">\n",
       "  <thead>\n",
       "    <tr style=\"text-align: right;\">\n",
       "      <th></th>\n",
       "      <th>cuisine</th>\n",
       "      <th>id</th>\n",
       "      <th>ingredients</th>\n",
       "    </tr>\n",
       "  </thead>\n",
       "  <tbody>\n",
       "    <tr>\n",
       "      <th>0</th>\n",
       "      <td>chinese</td>\n",
       "      <td>45887</td>\n",
       "      <td>low sodium soy sauce fresh ginger dry mustard ...</td>\n",
       "    </tr>\n",
       "    <tr>\n",
       "      <th>1</th>\n",
       "      <td>thai</td>\n",
       "      <td>2941</td>\n",
       "      <td>sugar hot chili asian fish sauce lime juice</td>\n",
       "    </tr>\n",
       "    <tr>\n",
       "      <th>2</th>\n",
       "      <td>vietnamese</td>\n",
       "      <td>8152</td>\n",
       "      <td>soy sauce vegetable oil red bell pepper chicke...</td>\n",
       "    </tr>\n",
       "    <tr>\n",
       "      <th>3</th>\n",
       "      <td>thai</td>\n",
       "      <td>13121</td>\n",
       "      <td>pork loin roasted peanuts chopped cilantro fre...</td>\n",
       "    </tr>\n",
       "    <tr>\n",
       "      <th>4</th>\n",
       "      <td>chinese</td>\n",
       "      <td>29630</td>\n",
       "      <td>sesame seeds red pepper yellow peppers water e...</td>\n",
       "    </tr>\n",
       "  </tbody>\n",
       "</table>\n",
       "</div>"
      ],
      "text/plain": [
       "      cuisine     id                                        ingredients\n",
       "0     chinese  45887  low sodium soy sauce fresh ginger dry mustard ...\n",
       "1        thai   2941        sugar hot chili asian fish sauce lime juice\n",
       "2  vietnamese   8152  soy sauce vegetable oil red bell pepper chicke...\n",
       "3        thai  13121  pork loin roasted peanuts chopped cilantro fre...\n",
       "4     chinese  29630  sesame seeds red pepper yellow peppers water e..."
      ]
     },
     "execution_count": 550,
     "metadata": {},
     "output_type": "execute_result"
    }
   ],
   "source": [
    "#First, convert Ingredients column values from list of ingredients to a string containing all of the words\n",
    "recipe.ingredients = recipe.ingredients.apply(lambda x: ' '.join(x))\n",
    "recipe.head()"
   ]
  },
  {
   "cell_type": "code",
   "execution_count": 551,
   "metadata": {},
   "outputs": [],
   "source": [
    "#Split dataset into X and y\n",
    "\n",
    "X = recipe['ingredients']\n",
    "y = recipe['cuisine']"
   ]
  },
  {
   "cell_type": "code",
   "execution_count": 552,
   "metadata": {},
   "outputs": [],
   "source": [
    "#Stem X\n",
    "stemmer = SnowballStemmer('english')\n",
    "X_stemmed = [' '.join([stemmer.stem(word) for word in text.split(' ')])\n",
    "          for text in X]"
   ]
  },
  {
   "cell_type": "code",
   "execution_count": 553,
   "metadata": {},
   "outputs": [],
   "source": [
    "#2 Train/Test Split - split into training and test sets\n",
    "\n",
    "X_train, X_test, y_train, y_test = train_test_split(X_stemmed, y, random_state=31)"
   ]
  },
  {
   "cell_type": "code",
   "execution_count": 554,
   "metadata": {},
   "outputs": [],
   "source": [
    "#3 Use CountVectorizer to create document-term matrices from X_train and X_test.\n",
    "vect = CountVectorizer(strip_accents=ascii)\n",
    "\n",
    "# Create document-term matrices.\n",
    "X_train_dtm = vect.fit_transform(X_train)\n",
    "X_test_dtm = vect.transform(X_test)"
   ]
  },
  {
   "cell_type": "code",
   "execution_count": 555,
   "metadata": {},
   "outputs": [
    {
     "name": "stdout",
     "output_type": "stream",
     "text": [
      "0.814042786615469\n"
     ]
    }
   ],
   "source": [
    "# Instantiate & fit Logistic Regression model\n",
    "\n",
    "logreg = LogisticRegression()\n",
    "\n",
    "logreg.fit(X_train_dtm, y_train)\n",
    "y_pred_class = logreg.predict(X_test_dtm)\n",
    "\n",
    "# Calculate accuracy.\n",
    "print((metrics.accuracy_score(y_test, y_pred_class)))"
   ]
  },
  {
   "cell_type": "code",
   "execution_count": 556,
   "metadata": {},
   "outputs": [
    {
     "name": "stdout",
     "output_type": "stream",
     "text": [
      "              precision    recall  f1-score   support\n",
      "\n",
      "     chinese       0.83      0.91      0.87       683\n",
      "    japanese       0.85      0.84      0.84       376\n",
      "      korean       0.78      0.73      0.76       199\n",
      "        thai       0.78      0.81      0.79       353\n",
      "  vietnamese       0.77      0.56      0.65       212\n",
      "\n",
      "   micro avg       0.81      0.81      0.81      1823\n",
      "   macro avg       0.80      0.77      0.78      1823\n",
      "weighted avg       0.81      0.81      0.81      1823\n",
      "\n"
     ]
    }
   ],
   "source": [
    "print(classification_report(y_test, y_pred_class))"
   ]
  },
  {
   "cell_type": "code",
   "execution_count": 557,
   "metadata": {},
   "outputs": [
    {
     "data": {
      "text/plain": [
       "<matplotlib.axes._subplots.AxesSubplot at 0x1a9748cdd8>"
      ]
     },
     "execution_count": 557,
     "metadata": {},
     "output_type": "execute_result"
    },
    {
     "data": {
      "image/png": "[encoded data removed]",
      "text/plain": [
       "<Figure size 432x288 with 2 Axes>"
      ]
     },
     "metadata": {},
     "output_type": "display_data"
    }
   ],
   "source": [
    "#Look at confusion matrix\n",
    "array = confusion_matrix(y_test, y_pred_class)\n",
    "df_cm = pd.DataFrame(array, index = [i for i in ['chinese', 'thai', 'japanese', 'korean', 'vietnamese']],\n",
    "                  columns = [i for i in ['chinese', 'thai', 'japanese', 'korean', 'vietnamese']])\n",
    "sns.heatmap(df_cm, annot=True, fmt='g', cmap='Blues')\n",
    "#columns = class predicted by model\n",
    "#rows = actual classes"
   ]
  },
  {
   "cell_type": "markdown",
   "metadata": {},
   "source": [
    "## TF-IDF with n-grams using Logistic Regression"
   ]
  },
  {
   "cell_type": "code",
   "execution_count": 586,
   "metadata": {},
   "outputs": [
    {
     "data": {
      "text/html": [
       "<div>\n",
       "<style scoped>\n",
       "    .dataframe tbody tr th:only-of-type {\n",
       "        vertical-align: middle;\n",
       "    }\n",
       "\n",
       "    .dataframe tbody tr th {\n",
       "        vertical-align: top;\n",
       "    }\n",
       "\n",
       "    .dataframe thead th {\n",
       "        text-align: right;\n",
       "    }\n",
       "</style>\n",
       "<table border=\"1\" class=\"dataframe\">\n",
       "  <thead>\n",
       "    <tr style=\"text-align: right;\">\n",
       "      <th></th>\n",
       "      <th>cuisine</th>\n",
       "      <th>id</th>\n",
       "      <th>ingredients</th>\n",
       "    </tr>\n",
       "  </thead>\n",
       "  <tbody>\n",
       "    <tr>\n",
       "      <th>0</th>\n",
       "      <td>greek</td>\n",
       "      <td>10259</td>\n",
       "      <td>[romaine lettuce, black olives, grape tomatoes...</td>\n",
       "    </tr>\n",
       "    <tr>\n",
       "      <th>1</th>\n",
       "      <td>southern_us</td>\n",
       "      <td>25693</td>\n",
       "      <td>[plain flour, ground pepper, salt, tomatoes, g...</td>\n",
       "    </tr>\n",
       "    <tr>\n",
       "      <th>2</th>\n",
       "      <td>filipino</td>\n",
       "      <td>20130</td>\n",
       "      <td>[eggs, pepper, salt, mayonaise, cooking oil, g...</td>\n",
       "    </tr>\n",
       "    <tr>\n",
       "      <th>3</th>\n",
       "      <td>indian</td>\n",
       "      <td>22213</td>\n",
       "      <td>[water, vegetable oil, wheat, salt]</td>\n",
       "    </tr>\n",
       "    <tr>\n",
       "      <th>4</th>\n",
       "      <td>indian</td>\n",
       "      <td>13162</td>\n",
       "      <td>[black pepper, shallots, cornflour, cayenne pe...</td>\n",
       "    </tr>\n",
       "  </tbody>\n",
       "</table>\n",
       "</div>"
      ],
      "text/plain": [
       "       cuisine     id                                        ingredients\n",
       "0        greek  10259  [romaine lettuce, black olives, grape tomatoes...\n",
       "1  southern_us  25693  [plain flour, ground pepper, salt, tomatoes, g...\n",
       "2     filipino  20130  [eggs, pepper, salt, mayonaise, cooking oil, g...\n",
       "3       indian  22213                [water, vegetable oil, wheat, salt]\n",
       "4       indian  13162  [black pepper, shallots, cornflour, cayenne pe..."
      ]
     },
     "execution_count": 586,
     "metadata": {},
     "output_type": "execute_result"
    }
   ],
   "source": [
    "#1 - Load in Kaggle training dataset\n",
    "with open('train.json') as f:\n",
    "    dict_train = json.load(f)\n",
    "\n",
    "recipe = pd.DataFrame(dict_train)\n",
    "recipe.head()"
   ]
  },
  {
   "cell_type": "code",
   "execution_count": 587,
   "metadata": {},
   "outputs": [
    {
     "data": {
      "text/plain": [
       "chinese       2673\n",
       "thai          1539\n",
       "japanese      1423\n",
       "korean         830\n",
       "vietnamese     825\n",
       "Name: cuisine, dtype: int64"
      ]
     },
     "execution_count": 587,
     "metadata": {},
     "output_type": "execute_result"
    }
   ],
   "source": [
    "#Filter dataset down to only the top 5 East Asian & Southeast Asian cuisines\n",
    "asian_cuisines = ['chinese', 'thai', 'japanese', 'korean', 'vietnamese']\n",
    "recipe = recipe[recipe.cuisine.isin(asian_cuisines)]\n",
    "recipe.reset_index(drop = True, inplace = True)\n",
    "recipe.cuisine.value_counts()"
   ]
  },
  {
   "cell_type": "code",
   "execution_count": 588,
   "metadata": {},
   "outputs": [
    {
     "data": {
      "text/html": [
       "<div>\n",
       "<style scoped>\n",
       "    .dataframe tbody tr th:only-of-type {\n",
       "        vertical-align: middle;\n",
       "    }\n",
       "\n",
       "    .dataframe tbody tr th {\n",
       "        vertical-align: top;\n",
       "    }\n",
       "\n",
       "    .dataframe thead th {\n",
       "        text-align: right;\n",
       "    }\n",
       "</style>\n",
       "<table border=\"1\" class=\"dataframe\">\n",
       "  <thead>\n",
       "    <tr style=\"text-align: right;\">\n",
       "      <th></th>\n",
       "      <th>cuisine</th>\n",
       "      <th>id</th>\n",
       "      <th>ingredients</th>\n",
       "    </tr>\n",
       "  </thead>\n",
       "  <tbody>\n",
       "    <tr>\n",
       "      <th>0</th>\n",
       "      <td>chinese</td>\n",
       "      <td>45887</td>\n",
       "      <td>low sodium soy sauce fresh ginger dry mustard ...</td>\n",
       "    </tr>\n",
       "    <tr>\n",
       "      <th>1</th>\n",
       "      <td>thai</td>\n",
       "      <td>2941</td>\n",
       "      <td>sugar hot chili asian fish sauce lime juice</td>\n",
       "    </tr>\n",
       "    <tr>\n",
       "      <th>2</th>\n",
       "      <td>vietnamese</td>\n",
       "      <td>8152</td>\n",
       "      <td>soy sauce vegetable oil red bell pepper chicke...</td>\n",
       "    </tr>\n",
       "    <tr>\n",
       "      <th>3</th>\n",
       "      <td>thai</td>\n",
       "      <td>13121</td>\n",
       "      <td>pork loin roasted peanuts chopped cilantro fre...</td>\n",
       "    </tr>\n",
       "    <tr>\n",
       "      <th>4</th>\n",
       "      <td>chinese</td>\n",
       "      <td>29630</td>\n",
       "      <td>sesame seeds red pepper yellow peppers water e...</td>\n",
       "    </tr>\n",
       "  </tbody>\n",
       "</table>\n",
       "</div>"
      ],
      "text/plain": [
       "      cuisine     id                                        ingredients\n",
       "0     chinese  45887  low sodium soy sauce fresh ginger dry mustard ...\n",
       "1        thai   2941        sugar hot chili asian fish sauce lime juice\n",
       "2  vietnamese   8152  soy sauce vegetable oil red bell pepper chicke...\n",
       "3        thai  13121  pork loin roasted peanuts chopped cilantro fre...\n",
       "4     chinese  29630  sesame seeds red pepper yellow peppers water e..."
      ]
     },
     "execution_count": 588,
     "metadata": {},
     "output_type": "execute_result"
    }
   ],
   "source": [
    "#First, convert Ingredients column values from list of ingredients to a string containing all of the words\n",
    "recipe.ingredients = recipe.ingredients.apply(lambda x: ' '.join(x))\n",
    "recipe.head()"
   ]
  },
  {
   "cell_type": "code",
   "execution_count": 589,
   "metadata": {},
   "outputs": [],
   "source": [
    "#Split dataset into X and y\n",
    "\n",
    "X = recipe['ingredients']\n",
    "y = recipe['cuisine']"
   ]
  },
  {
   "cell_type": "code",
   "execution_count": 590,
   "metadata": {},
   "outputs": [],
   "source": [
    "vect = TfidfVectorizer(strip_accents=ascii)\n",
    "X = vect.fit_transform(X)"
   ]
  },
  {
   "cell_type": "code",
   "execution_count": 591,
   "metadata": {},
   "outputs": [],
   "source": [
    "#2 Train/Test Split - split into training and test sets\n",
    "\n",
    "X_train, X_test, y_train, y_test = train_test_split(X, y, random_state=31)"
   ]
  },
  {
   "cell_type": "code",
   "execution_count": 592,
   "metadata": {},
   "outputs": [
    {
     "name": "stdout",
     "output_type": "stream",
     "text": [
      "0.814042786615469\n"
     ]
    }
   ],
   "source": [
    "# Instantiate & fit Logistic Regression model\n",
    "\n",
    "logreg = LogisticRegression()\n",
    "\n",
    "logreg.fit(X_train, y_train)\n",
    "y_pred_class = logreg.predict(X_test)\n",
    "\n",
    "# Calculate accuracy.\n",
    "print((metrics.accuracy_score(y_test, y_pred_class)))"
   ]
  },
  {
   "cell_type": "code",
   "execution_count": 593,
   "metadata": {},
   "outputs": [
    {
     "name": "stdout",
     "output_type": "stream",
     "text": [
      "              precision    recall  f1-score   support\n",
      "\n",
      "     chinese       0.81      0.93      0.86       683\n",
      "    japanese       0.86      0.83      0.84       376\n",
      "      korean       0.86      0.70      0.77       199\n",
      "        thai       0.77      0.82      0.79       353\n",
      "  vietnamese       0.82      0.50      0.62       212\n",
      "\n",
      "   micro avg       0.81      0.81      0.81      1823\n",
      "   macro avg       0.82      0.76      0.78      1823\n",
      "weighted avg       0.82      0.81      0.81      1823\n",
      "\n"
     ]
    }
   ],
   "source": [
    "print(classification_report(y_test, y_pred_class))"
   ]
  },
  {
   "cell_type": "code",
   "execution_count": 594,
   "metadata": {},
   "outputs": [
    {
     "data": {
      "text/plain": [
       "<matplotlib.axes._subplots.AxesSubplot at 0x1ab34823c8>"
      ]
     },
     "execution_count": 594,
     "metadata": {},
     "output_type": "execute_result"
    },
    {
     "data": {
      "image/png": "[encoded data removed]",
      "text/plain": [
       "<Figure size 432x288 with 2 Axes>"
      ]
     },
     "metadata": {},
     "output_type": "display_data"
    }
   ],
   "source": [
    "#Look at confusion matrix\n",
    "array = confusion_matrix(y_test, y_pred_class)\n",
    "df_cm = pd.DataFrame(array, index = [i for i in ['chinese', 'thai', 'japanese', 'korean', 'vietnamese']],\n",
    "                  columns = [i for i in ['chinese', 'thai', 'japanese', 'korean', 'vietnamese']])\n",
    "sns.heatmap(df_cm, annot=True, fmt='g', cmap='Blues')\n",
    "#columns = class predicted by model\n",
    "#rows = actual classes"
   ]
  },
  {
   "cell_type": "markdown",
   "metadata": {},
   "source": [
    "## 1-4 n-grams with stemming and logistic regression"
   ]
  },
  {
   "cell_type": "code",
   "execution_count": 595,
   "metadata": {},
   "outputs": [
    {
     "data": {
      "text/html": [
       "<div>\n",
       "<style scoped>\n",
       "    .dataframe tbody tr th:only-of-type {\n",
       "        vertical-align: middle;\n",
       "    }\n",
       "\n",
       "    .dataframe tbody tr th {\n",
       "        vertical-align: top;\n",
       "    }\n",
       "\n",
       "    .dataframe thead th {\n",
       "        text-align: right;\n",
       "    }\n",
       "</style>\n",
       "<table border=\"1\" class=\"dataframe\">\n",
       "  <thead>\n",
       "    <tr style=\"text-align: right;\">\n",
       "      <th></th>\n",
       "      <th>cuisine</th>\n",
       "      <th>id</th>\n",
       "      <th>ingredients</th>\n",
       "    </tr>\n",
       "  </thead>\n",
       "  <tbody>\n",
       "    <tr>\n",
       "      <th>0</th>\n",
       "      <td>greek</td>\n",
       "      <td>10259</td>\n",
       "      <td>[romaine lettuce, black olives, grape tomatoes...</td>\n",
       "    </tr>\n",
       "    <tr>\n",
       "      <th>1</th>\n",
       "      <td>southern_us</td>\n",
       "      <td>25693</td>\n",
       "      <td>[plain flour, ground pepper, salt, tomatoes, g...</td>\n",
       "    </tr>\n",
       "    <tr>\n",
       "      <th>2</th>\n",
       "      <td>filipino</td>\n",
       "      <td>20130</td>\n",
       "      <td>[eggs, pepper, salt, mayonaise, cooking oil, g...</td>\n",
       "    </tr>\n",
       "    <tr>\n",
       "      <th>3</th>\n",
       "      <td>indian</td>\n",
       "      <td>22213</td>\n",
       "      <td>[water, vegetable oil, wheat, salt]</td>\n",
       "    </tr>\n",
       "    <tr>\n",
       "      <th>4</th>\n",
       "      <td>indian</td>\n",
       "      <td>13162</td>\n",
       "      <td>[black pepper, shallots, cornflour, cayenne pe...</td>\n",
       "    </tr>\n",
       "  </tbody>\n",
       "</table>\n",
       "</div>"
      ],
      "text/plain": [
       "       cuisine     id                                        ingredients\n",
       "0        greek  10259  [romaine lettuce, black olives, grape tomatoes...\n",
       "1  southern_us  25693  [plain flour, ground pepper, salt, tomatoes, g...\n",
       "2     filipino  20130  [eggs, pepper, salt, mayonaise, cooking oil, g...\n",
       "3       indian  22213                [water, vegetable oil, wheat, salt]\n",
       "4       indian  13162  [black pepper, shallots, cornflour, cayenne pe..."
      ]
     },
     "execution_count": 595,
     "metadata": {},
     "output_type": "execute_result"
    }
   ],
   "source": [
    "#1 - Load in Kaggle training dataset\n",
    "with open('train.json') as f:\n",
    "    dict_train = json.load(f)\n",
    "\n",
    "recipe = pd.DataFrame(dict_train)\n",
    "recipe.head()"
   ]
  },
  {
   "cell_type": "code",
   "execution_count": 596,
   "metadata": {},
   "outputs": [
    {
     "data": {
      "text/plain": [
       "chinese       2673\n",
       "thai          1539\n",
       "japanese      1423\n",
       "korean         830\n",
       "vietnamese     825\n",
       "Name: cuisine, dtype: int64"
      ]
     },
     "execution_count": 596,
     "metadata": {},
     "output_type": "execute_result"
    }
   ],
   "source": [
    "#Filter dataset down to only the top 5 East Asian & Southeast Asian cuisines\n",
    "asian_cuisines = ['chinese', 'thai', 'japanese', 'korean', 'vietnamese']\n",
    "recipe = recipe[recipe.cuisine.isin(asian_cuisines)]\n",
    "recipe.reset_index(drop = True, inplace = True)\n",
    "recipe.cuisine.value_counts()"
   ]
  },
  {
   "cell_type": "code",
   "execution_count": 597,
   "metadata": {},
   "outputs": [
    {
     "data": {
      "text/html": [
       "<div>\n",
       "<style scoped>\n",
       "    .dataframe tbody tr th:only-of-type {\n",
       "        vertical-align: middle;\n",
       "    }\n",
       "\n",
       "    .dataframe tbody tr th {\n",
       "        vertical-align: top;\n",
       "    }\n",
       "\n",
       "    .dataframe thead th {\n",
       "        text-align: right;\n",
       "    }\n",
       "</style>\n",
       "<table border=\"1\" class=\"dataframe\">\n",
       "  <thead>\n",
       "    <tr style=\"text-align: right;\">\n",
       "      <th></th>\n",
       "      <th>cuisine</th>\n",
       "      <th>id</th>\n",
       "      <th>ingredients</th>\n",
       "    </tr>\n",
       "  </thead>\n",
       "  <tbody>\n",
       "    <tr>\n",
       "      <th>0</th>\n",
       "      <td>chinese</td>\n",
       "      <td>45887</td>\n",
       "      <td>low sodium soy sauce fresh ginger dry mustard ...</td>\n",
       "    </tr>\n",
       "    <tr>\n",
       "      <th>1</th>\n",
       "      <td>thai</td>\n",
       "      <td>2941</td>\n",
       "      <td>sugar hot chili asian fish sauce lime juice</td>\n",
       "    </tr>\n",
       "    <tr>\n",
       "      <th>2</th>\n",
       "      <td>vietnamese</td>\n",
       "      <td>8152</td>\n",
       "      <td>soy sauce vegetable oil red bell pepper chicke...</td>\n",
       "    </tr>\n",
       "    <tr>\n",
       "      <th>3</th>\n",
       "      <td>thai</td>\n",
       "      <td>13121</td>\n",
       "      <td>pork loin roasted peanuts chopped cilantro fre...</td>\n",
       "    </tr>\n",
       "    <tr>\n",
       "      <th>4</th>\n",
       "      <td>chinese</td>\n",
       "      <td>29630</td>\n",
       "      <td>sesame seeds red pepper yellow peppers water e...</td>\n",
       "    </tr>\n",
       "  </tbody>\n",
       "</table>\n",
       "</div>"
      ],
      "text/plain": [
       "      cuisine     id                                        ingredients\n",
       "0     chinese  45887  low sodium soy sauce fresh ginger dry mustard ...\n",
       "1        thai   2941        sugar hot chili asian fish sauce lime juice\n",
       "2  vietnamese   8152  soy sauce vegetable oil red bell pepper chicke...\n",
       "3        thai  13121  pork loin roasted peanuts chopped cilantro fre...\n",
       "4     chinese  29630  sesame seeds red pepper yellow peppers water e..."
      ]
     },
     "execution_count": 597,
     "metadata": {},
     "output_type": "execute_result"
    }
   ],
   "source": [
    "#First, convert Ingredients column values from list of ingredients to a string containing all of the words\n",
    "recipe.ingredients = recipe.ingredients.apply(lambda x: ' '.join(x))\n",
    "recipe.head()"
   ]
  },
  {
   "cell_type": "code",
   "execution_count": 598,
   "metadata": {},
   "outputs": [],
   "source": [
    "#Split dataset into X and y\n",
    "\n",
    "X = recipe['ingredients']\n",
    "y = recipe['cuisine']"
   ]
  },
  {
   "cell_type": "code",
   "execution_count": 599,
   "metadata": {},
   "outputs": [],
   "source": [
    "#Stem X\n",
    "stemmer = SnowballStemmer('english')\n",
    "X_stemmed = [' '.join([stemmer.stem(word) for word in text.split(' ')])\n",
    "          for text in X]"
   ]
  },
  {
   "cell_type": "code",
   "execution_count": 600,
   "metadata": {},
   "outputs": [],
   "source": [
    "#2 Train/Test Split - split into training and test sets\n",
    "\n",
    "X_train, X_test, y_train, y_test = train_test_split(X_stemmed, y, random_state=31)"
   ]
  },
  {
   "cell_type": "code",
   "execution_count": 601,
   "metadata": {},
   "outputs": [],
   "source": [
    "#3 Use CountVectorizer to create document-term matrices from X_train and X_test.\n",
    "vect = CountVectorizer(strip_accents=ascii, ngram_range=(1, 4), min_df=1)\n",
    "\n",
    "# Create document-term matrices.\n",
    "X_train_dtm = vect.fit_transform(X_train)\n",
    "X_test_dtm = vect.transform(X_test)"
   ]
  },
  {
   "cell_type": "code",
   "execution_count": 602,
   "metadata": {},
   "outputs": [
    {
     "name": "stdout",
     "output_type": "stream",
     "text": [
      "0.8151398793198025\n"
     ]
    }
   ],
   "source": [
    "# Instantiate & fit Logistic Regression model\n",
    "\n",
    "logreg = LogisticRegression()\n",
    "\n",
    "logreg.fit(X_train_dtm, y_train)\n",
    "y_pred_class = logreg.predict(X_test_dtm)\n",
    "\n",
    "# Calculate accuracy.\n",
    "print((metrics.accuracy_score(y_test, y_pred_class)))"
   ]
  },
  {
   "cell_type": "code",
   "execution_count": null,
   "metadata": {},
   "outputs": [],
   "source": [
    "##Summary so far - looks like logistic regression using 1/2/3/4 n-grams has the best accuracy"
   ]
  },
  {
   "cell_type": "code",
   "execution_count": null,
   "metadata": {},
   "outputs": [],
   "source": [
    "#Things we can try:\n",
    "# - Classification Decision Tree x\n",
    "# - Random Forest X\n",
    "# - Naive Bayes X\n",
    "# - Clean up data - tokenization (words) X\n",
    "# - Clean up data - tokenization (n-grams) X\n",
    "# - Stemming/lemmatization X\n",
    "# - Predict with % probabilities\n",
    "# - Josh M. suggestion - use TF-IDF (word importance) X (or LDA)"
   ]
  }
 ],
 "metadata": {
  "kernelspec": {
   "display_name": "Python 3",
   "language": "python",
   "name": "python3"
  },
  "language_info": {
   "codemirror_mode": {
    "name": "ipython",
    "version": 3
   },
   "file_extension": ".py",
   "mimetype": "text/x-python",
   "name": "python",
   "nbconvert_exporter": "python",
   "pygments_lexer": "ipython3",
   "version": "3.6.8"
  }
 },
 "nbformat": 4,
 "nbformat_minor": 2
}
